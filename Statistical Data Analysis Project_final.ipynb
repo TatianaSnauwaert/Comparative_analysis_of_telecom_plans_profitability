{
 "cells": [
  {
   "cell_type": "markdown",
   "metadata": {},
   "source": [
    "# Statistical Data Analysis Project\n",
    "# *Comparative analysis of the telecom plans profitability*"
   ]
  },
  {
   "cell_type": "markdown",
   "metadata": {
    "toc": true
   },
   "source": [
    "<h1>Table of Contents<span class=\"tocSkip\"></span></h1>\n",
    "<div class=\"toc\"><ul class=\"toc-item\"><li><span><a href=\"#Goal\" data-toc-modified-id=\"Goal-1\"><span class=\"toc-item-num\">1&nbsp;&nbsp;</span>Goal</a></span></li><li><span><a href=\"#Hypotheses\" data-toc-modified-id=\"Hypotheses-2\"><span class=\"toc-item-num\">2&nbsp;&nbsp;</span>Hypotheses</a></span></li><li><span><a href=\"#Description-of-the-data\" data-toc-modified-id=\"Description-of-the-data-3\"><span class=\"toc-item-num\">3&nbsp;&nbsp;</span>Description of the data</a></span></li><li><span><a href=\"#Imports\" data-toc-modified-id=\"Imports-4\"><span class=\"toc-item-num\">4&nbsp;&nbsp;</span>Imports</a></span></li><li><span><a href=\"#Library-version-check-and-update\" data-toc-modified-id=\"Library-version-check-and-update-5\"><span class=\"toc-item-num\">5&nbsp;&nbsp;</span>Library version check and update</a></span></li><li><span><a href=\"#Input-data\" data-toc-modified-id=\"Input-data-6\"><span class=\"toc-item-num\">6&nbsp;&nbsp;</span>Input data</a></span></li><li><span><a href=\"#Overview\" data-toc-modified-id=\"Overview-7\"><span class=\"toc-item-num\">7&nbsp;&nbsp;</span>Overview</a></span><ul class=\"toc-item\"><li><span><a href=\"#Users\" data-toc-modified-id=\"Users-7.1\"><span class=\"toc-item-num\">7.1&nbsp;&nbsp;</span>Users</a></span></li><li><span><a href=\"#Messages\" data-toc-modified-id=\"Messages-7.2\"><span class=\"toc-item-num\">7.2&nbsp;&nbsp;</span>Messages</a></span></li><li><span><a href=\"#Calls\" data-toc-modified-id=\"Calls-7.3\"><span class=\"toc-item-num\">7.3&nbsp;&nbsp;</span>Calls</a></span></li><li><span><a href=\"#Internet\" data-toc-modified-id=\"Internet-7.4\"><span class=\"toc-item-num\">7.4&nbsp;&nbsp;</span>Internet</a></span></li><li><span><a href=\"#Plans\" data-toc-modified-id=\"Plans-7.5\"><span class=\"toc-item-num\">7.5&nbsp;&nbsp;</span>Plans</a></span></li></ul></li><li><span><a href=\"#Preprocessing\" data-toc-modified-id=\"Preprocessing-8\"><span class=\"toc-item-num\">8&nbsp;&nbsp;</span>Preprocessing</a></span><ul class=\"toc-item\"><li><span><a href=\"#Data-type-change\" data-toc-modified-id=\"Data-type-change-8.1\"><span class=\"toc-item-num\">8.1&nbsp;&nbsp;</span>Data type change</a></span><ul class=\"toc-item\"><li><span><a href=\"#Dates\" data-toc-modified-id=\"Dates-8.1.1\"><span class=\"toc-item-num\">8.1.1&nbsp;&nbsp;</span>Dates</a></span></li><li><span><a href=\"#Call-duration\" data-toc-modified-id=\"Call-duration-8.1.2\"><span class=\"toc-item-num\">8.1.2&nbsp;&nbsp;</span>Call duration</a></span></li></ul></li><li><span><a href=\"#Missing-values\" data-toc-modified-id=\"Missing-values-8.2\"><span class=\"toc-item-num\">8.2&nbsp;&nbsp;</span>Missing values</a></span></li><li><span><a href=\"#Duplicates\" data-toc-modified-id=\"Duplicates-8.3\"><span class=\"toc-item-num\">8.3&nbsp;&nbsp;</span>Duplicates</a></span></li><li><span><a href=\"#Check-for-artifacts-in-user-dates\" data-toc-modified-id=\"Check-for-artifacts-in-user-dates-8.4\"><span class=\"toc-item-num\">8.4&nbsp;&nbsp;</span>Check for artifacts in user dates</a></span></li><li><span><a href=\"#Calculations\" data-toc-modified-id=\"Calculations-8.5\"><span class=\"toc-item-num\">8.5&nbsp;&nbsp;</span>Calculations</a></span><ul class=\"toc-item\"><li><span><a href=\"#Calls-per-month\" data-toc-modified-id=\"Calls-per-month-8.5.1\"><span class=\"toc-item-num\">8.5.1&nbsp;&nbsp;</span>Calls per month</a></span></li><li><span><a href=\"#Messages-per-month\" data-toc-modified-id=\"Messages-per-month-8.5.2\"><span class=\"toc-item-num\">8.5.2&nbsp;&nbsp;</span>Messages per month</a></span></li><li><span><a href=\"#Volume-of-data-per-month\" data-toc-modified-id=\"Volume-of-data-per-month-8.5.3\"><span class=\"toc-item-num\">8.5.3&nbsp;&nbsp;</span>Volume of data per month</a></span></li><li><span><a href=\"#Monthly-profit-from-each-user\" data-toc-modified-id=\"Monthly-profit-from-each-user-8.5.4\"><span class=\"toc-item-num\">8.5.4&nbsp;&nbsp;</span>Monthly profit from each user</a></span></li></ul></li></ul></li><li><span><a href=\"#EDA\" data-toc-modified-id=\"EDA-9\"><span class=\"toc-item-num\">9&nbsp;&nbsp;</span>EDA</a></span><ul class=\"toc-item\"><li><span><a href=\"#Distribution-analysis\" data-toc-modified-id=\"Distribution-analysis-9.1\"><span class=\"toc-item-num\">9.1&nbsp;&nbsp;</span>Distribution analysis</a></span><ul class=\"toc-item\"><li><span><a href=\"#Calls\" data-toc-modified-id=\"Calls-9.1.1\"><span class=\"toc-item-num\">9.1.1&nbsp;&nbsp;</span>Calls</a></span></li><li><span><a href=\"#Messages\" data-toc-modified-id=\"Messages-9.1.2\"><span class=\"toc-item-num\">9.1.2&nbsp;&nbsp;</span>Messages</a></span></li><li><span><a href=\"#Internet\" data-toc-modified-id=\"Internet-9.1.3\"><span class=\"toc-item-num\">9.1.3&nbsp;&nbsp;</span>Internet</a></span></li></ul></li><li><span><a href=\"#Outliers\" data-toc-modified-id=\"Outliers-9.2\"><span class=\"toc-item-num\">9.2&nbsp;&nbsp;</span>Outliers</a></span><ul class=\"toc-item\"><li><span><a href=\"#Calls\" data-toc-modified-id=\"Calls-9.2.1\"><span class=\"toc-item-num\">9.2.1&nbsp;&nbsp;</span>Calls</a></span></li><li><span><a href=\"#Messages\" data-toc-modified-id=\"Messages-9.2.2\"><span class=\"toc-item-num\">9.2.2&nbsp;&nbsp;</span>Messages</a></span></li><li><span><a href=\"#Internet\" data-toc-modified-id=\"Internet-9.2.3\"><span class=\"toc-item-num\">9.2.3&nbsp;&nbsp;</span>Internet</a></span></li><li><span><a href=\"#Outliers-removal\" data-toc-modified-id=\"Outliers-removal-9.2.4\"><span class=\"toc-item-num\">9.2.4&nbsp;&nbsp;</span>Outliers removal</a></span></li></ul></li></ul></li><li><span><a href=\"#Statistical-hypotheses-testing\" data-toc-modified-id=\"Statistical-hypotheses-testing-10\"><span class=\"toc-item-num\">10&nbsp;&nbsp;</span>Statistical hypotheses testing</a></span><ul class=\"toc-item\"><li><span><a href=\"#The-average-profit-from-users-of-Ultimate-and-Surf-plans-differs:-bilateral-hypothesis\" data-toc-modified-id=\"The-average-profit-from-users-of-Ultimate-and-Surf-plans-differs:-bilateral-hypothesis-10.1\"><span class=\"toc-item-num\">10.1&nbsp;&nbsp;</span>The average profit from users of Ultimate and Surf plans differs: bilateral hypothesis</a></span><ul class=\"toc-item\"><li><span><a href=\"#Step-1:-the-null-and-alternative-hypotheses\" data-toc-modified-id=\"Step-1:-the-null-and-alternative-hypotheses-10.1.1\"><span class=\"toc-item-num\">10.1.1&nbsp;&nbsp;</span>Step 1: the null and alternative hypotheses</a></span></li><li><span><a href=\"#Step-2:-Set-the-criteria-for-a-decision\" data-toc-modified-id=\"Step-2:-Set-the-criteria-for-a-decision-10.1.2\"><span class=\"toc-item-num\">10.1.2&nbsp;&nbsp;</span>Step 2: Set the criteria for a decision</a></span></li><li><span><a href=\"#Step-3:-Compute-the-test-statistic\" data-toc-modified-id=\"Step-3:-Compute-the-test-statistic-10.1.3\"><span class=\"toc-item-num\">10.1.3&nbsp;&nbsp;</span>Step 3: Compute the test statistic</a></span></li><li><span><a href=\"#Step-4:-Make-a-decision\" data-toc-modified-id=\"Step-4:-Make-a-decision-10.1.4\"><span class=\"toc-item-num\">10.1.4&nbsp;&nbsp;</span>Step 4: Make a decision</a></span></li></ul></li><li><span><a href=\"#The-average-profit-from-users-of-Ultimate-and-Surf-plans-differs:-unilateral-hypothesis\" data-toc-modified-id=\"The-average-profit-from-users-of-Ultimate-and-Surf-plans-differs:-unilateral-hypothesis-10.2\"><span class=\"toc-item-num\">10.2&nbsp;&nbsp;</span>The average profit from users of Ultimate and Surf plans differs: unilateral hypothesis</a></span><ul class=\"toc-item\"><li><span><a href=\"#The-&quot;Surf&quot;-plan's-average-profit-is-greater-than-the-&quot;Ultimate&quot;-plan's-average-profit\" data-toc-modified-id=\"The-&quot;Surf&quot;-plan's-average-profit-is-greater-than-the-&quot;Ultimate&quot;-plan's-average-profit-10.2.1\"><span class=\"toc-item-num\">10.2.1&nbsp;&nbsp;</span>The \"Surf\" plan's average profit is greater than the \"Ultimate\" plan's average profit</a></span><ul class=\"toc-item\"><li><span><a href=\"#Step-1:-the-null-and-alternative-hypotheses\" data-toc-modified-id=\"Step-1:-the-null-and-alternative-hypotheses-10.2.1.1\"><span class=\"toc-item-num\">10.2.1.1&nbsp;&nbsp;</span>Step 1: the null and alternative hypotheses</a></span></li><li><span><a href=\"#Step-2:-Set-the-criteria-for-a-decision\" data-toc-modified-id=\"Step-2:-Set-the-criteria-for-a-decision-10.2.1.2\"><span class=\"toc-item-num\">10.2.1.2&nbsp;&nbsp;</span>Step 2: Set the criteria for a decision</a></span></li><li><span><a href=\"#Step-3:-Compute-the-test-statistic\" data-toc-modified-id=\"Step-3:-Compute-the-test-statistic-10.2.1.3\"><span class=\"toc-item-num\">10.2.1.3&nbsp;&nbsp;</span>Step 3: Compute the test statistic</a></span></li><li><span><a href=\"#Step-4:-Make-a-decision\" data-toc-modified-id=\"Step-4:-Make-a-decision-10.2.1.4\"><span class=\"toc-item-num\">10.2.1.4&nbsp;&nbsp;</span>Step 4: Make a decision</a></span></li></ul></li></ul></li><li><span><a href=\"#The-average-profit-from-users-of-Ultimate-and-Surf-plans-differs:-unilateral-hypothesis\" data-toc-modified-id=\"The-average-profit-from-users-of-Ultimate-and-Surf-plans-differs:-unilateral-hypothesis-10.3\"><span class=\"toc-item-num\">10.3&nbsp;&nbsp;</span>The average profit from users of Ultimate and Surf plans differs: unilateral hypothesis</a></span><ul class=\"toc-item\"><li><span><a href=\"#The-&quot;Surf&quot;-plan's-average-profit-is-less-than-the-&quot;Ultimate&quot;-plan's-average-profit\" data-toc-modified-id=\"The-&quot;Surf&quot;-plan's-average-profit-is-less-than-the-&quot;Ultimate&quot;-plan's-average-profit-10.3.1\"><span class=\"toc-item-num\">10.3.1&nbsp;&nbsp;</span>The \"Surf\" plan's average profit is less than the \"Ultimate\" plan's average profit</a></span><ul class=\"toc-item\"><li><span><a href=\"#Step-1:-the-null-and-alternative-hypotheses\" data-toc-modified-id=\"Step-1:-the-null-and-alternative-hypotheses-10.3.1.1\"><span class=\"toc-item-num\">10.3.1.1&nbsp;&nbsp;</span>Step 1: the null and alternative hypotheses</a></span></li><li><span><a href=\"#Step-2:-Set-the-criteria-for-a-decision\" data-toc-modified-id=\"Step-2:-Set-the-criteria-for-a-decision-10.3.1.2\"><span class=\"toc-item-num\">10.3.1.2&nbsp;&nbsp;</span>Step 2: Set the criteria for a decision</a></span></li><li><span><a href=\"#Step-3:-Compute-the-test-statistic\" data-toc-modified-id=\"Step-3:-Compute-the-test-statistic-10.3.1.3\"><span class=\"toc-item-num\">10.3.1.3&nbsp;&nbsp;</span>Step 3: Compute the test statistic</a></span></li><li><span><a href=\"#Step-4:-Make-a-decision\" data-toc-modified-id=\"Step-4:-Make-a-decision-10.3.1.4\"><span class=\"toc-item-num\">10.3.1.4&nbsp;&nbsp;</span>Step 4: Make a decision</a></span></li></ul></li></ul></li><li><span><a href=\"#The-average-profit-from-users-in-NY-NJ-area-is-different-from-that-of-the-users-from-other-regions:-bilateral-hypothesis\" data-toc-modified-id=\"The-average-profit-from-users-in-NY-NJ-area-is-different-from-that-of-the-users-from-other-regions:-bilateral-hypothesis-10.4\"><span class=\"toc-item-num\">10.4&nbsp;&nbsp;</span>The average profit from users in NY-NJ area is different from that of the users from other regions: bilateral hypothesis</a></span><ul class=\"toc-item\"><li><span><a href=\"#Step-1:-the-null-and-alternative-hypotheses\" data-toc-modified-id=\"Step-1:-the-null-and-alternative-hypotheses-10.4.1\"><span class=\"toc-item-num\">10.4.1&nbsp;&nbsp;</span>Step 1: the null and alternative hypotheses</a></span></li><li><span><a href=\"#Step-2:-Set-the-criteria-for-a-decision\" data-toc-modified-id=\"Step-2:-Set-the-criteria-for-a-decision-10.4.2\"><span class=\"toc-item-num\">10.4.2&nbsp;&nbsp;</span>Step 2: Set the criteria for a decision</a></span></li><li><span><a href=\"#Step-3:-Compute-the-test-statistic\" data-toc-modified-id=\"Step-3:-Compute-the-test-statistic-10.4.3\"><span class=\"toc-item-num\">10.4.3&nbsp;&nbsp;</span>Step 3: Compute the test statistic</a></span></li><li><span><a href=\"#Step-4:-Make-a-decision\" data-toc-modified-id=\"Step-4:-Make-a-decision-10.4.4\"><span class=\"toc-item-num\">10.4.4&nbsp;&nbsp;</span>Step 4: Make a decision</a></span></li></ul></li><li><span><a href=\"#The-average-profit-from-users-of-Ultimate-and-Surf-plans-differs:-unilateral-hypothesis\" data-toc-modified-id=\"The-average-profit-from-users-of-Ultimate-and-Surf-plans-differs:-unilateral-hypothesis-10.5\"><span class=\"toc-item-num\">10.5&nbsp;&nbsp;</span>The average profit from users of Ultimate and Surf plans differs: unilateral hypothesis</a></span><ul class=\"toc-item\"><li><span><a href=\"#The-&quot;Surf&quot;-plan's-average-profit-is-greater-than-the-&quot;Ultimate&quot;-plan's-average-profit\" data-toc-modified-id=\"The-&quot;Surf&quot;-plan's-average-profit-is-greater-than-the-&quot;Ultimate&quot;-plan's-average-profit-10.5.1\"><span class=\"toc-item-num\">10.5.1&nbsp;&nbsp;</span>The \"Surf\" plan's average profit is greater than the \"Ultimate\" plan's average profit</a></span><ul class=\"toc-item\"><li><span><a href=\"#Step-1:-the-null-and-alternative-hypotheses\" data-toc-modified-id=\"Step-1:-the-null-and-alternative-hypotheses-10.5.1.1\"><span class=\"toc-item-num\">10.5.1.1&nbsp;&nbsp;</span>Step 1: the null and alternative hypotheses</a></span></li><li><span><a href=\"#Step-2:-Set-the-criteria-for-a-decision\" data-toc-modified-id=\"Step-2:-Set-the-criteria-for-a-decision-10.5.1.2\"><span class=\"toc-item-num\">10.5.1.2&nbsp;&nbsp;</span>Step 2: Set the criteria for a decision</a></span></li><li><span><a href=\"#Step-3:-Compute-the-test-statistic\" data-toc-modified-id=\"Step-3:-Compute-the-test-statistic-10.5.1.3\"><span class=\"toc-item-num\">10.5.1.3&nbsp;&nbsp;</span>Step 3: Compute the test statistic</a></span></li><li><span><a href=\"#Step-4:-Make-a-decision\" data-toc-modified-id=\"Step-4:-Make-a-decision-10.5.1.4\"><span class=\"toc-item-num\">10.5.1.4&nbsp;&nbsp;</span>Step 4: Make a decision</a></span></li></ul></li></ul></li><li><span><a href=\"#The-average-profit-from-users-of-Ultimate-and-Surf-plans-differs:-unilateral-hypothesis\" data-toc-modified-id=\"The-average-profit-from-users-of-Ultimate-and-Surf-plans-differs:-unilateral-hypothesis-10.6\"><span class=\"toc-item-num\">10.6&nbsp;&nbsp;</span>The average profit from users of Ultimate and Surf plans differs: unilateral hypothesis</a></span><ul class=\"toc-item\"><li><span><a href=\"#The-&quot;Surf&quot;-plan's-average-profit-is-less-than-the-&quot;Ultimate&quot;-plan's-average-profit\" data-toc-modified-id=\"The-&quot;Surf&quot;-plan's-average-profit-is-less-than-the-&quot;Ultimate&quot;-plan's-average-profit-10.6.1\"><span class=\"toc-item-num\">10.6.1&nbsp;&nbsp;</span>The \"Surf\" plan's average profit is less than the \"Ultimate\" plan's average profit</a></span><ul class=\"toc-item\"><li><span><a href=\"#Step-1:-the-null-and-alternative-hypotheses\" data-toc-modified-id=\"Step-1:-the-null-and-alternative-hypotheses-10.6.1.1\"><span class=\"toc-item-num\">10.6.1.1&nbsp;&nbsp;</span>Step 1: the null and alternative hypotheses</a></span></li><li><span><a href=\"#Step-2:-Set-the-criteria-for-a-decision\" data-toc-modified-id=\"Step-2:-Set-the-criteria-for-a-decision-10.6.1.2\"><span class=\"toc-item-num\">10.6.1.2&nbsp;&nbsp;</span>Step 2: Set the criteria for a decision</a></span></li><li><span><a href=\"#Step-3:-Compute-the-test-statistic\" data-toc-modified-id=\"Step-3:-Compute-the-test-statistic-10.6.1.3\"><span class=\"toc-item-num\">10.6.1.3&nbsp;&nbsp;</span>Step 3: Compute the test statistic</a></span></li><li><span><a href=\"#Step-4:-Make-a-decision\" data-toc-modified-id=\"Step-4:-Make-a-decision-10.6.1.4\"><span class=\"toc-item-num\">10.6.1.4&nbsp;&nbsp;</span>Step 4: Make a decision</a></span></li></ul></li></ul></li></ul></li></ul></div>"
   ]
  },
  {
   "cell_type": "markdown",
   "metadata": {},
   "source": [
    "### Goal\n",
    "Prepare a report for the telecom operator Megaline to analyze clients' behavior, determine which of the two prepaid plans is more profitable and test two statistical hypotheses."
   ]
  },
  {
   "cell_type": "markdown",
   "metadata": {},
   "source": [
    "### Hypotheses\n",
    "1. The average profit from users of Ultimate and Surf calling plans differs.\n",
    "2. The average profit from users in NY-NJ area is different from that of the users from other regions."
   ]
  },
  {
   "cell_type": "markdown",
   "metadata": {},
   "source": [
    "### Description of the data\n",
    "\n",
    "Megaline rounds seconds up to minutes, and megabytes to gigabytes. For **calls**, each individual call is rounded up: even if the call lasted just one second, it will be counted as one minute. For **web traffic**, individual web sessions are not rounded up. Instead, the total for the month is rounded up. If someone uses 1025 megabytes this month, they will be charged for 2 gigabytes.\n",
    "\n",
    "The `users` table (data on users):\n",
    "\n",
    "- *user_id* — unique user identifier\n",
    "- *first_name* — user's name\n",
    "- *last_name* — user's last name\n",
    "- *age* — user's age (years)\n",
    "- *reg_date* — subscription date (dd, mm, yy)\n",
    "- *churn_date* — the date the user stopped using the service (if the value is missing, the calling plan was being used when this database was extracted)\n",
    "- *city* — user's city of residence\n",
    "- *plan* — calling plan name\n",
    "\n",
    "The `calls` table (data on calls):\n",
    "\n",
    "- *id* — unique call identifier\n",
    "- *call_date* — call date\n",
    "- *duration* — call duration (in minutes)\n",
    "- *user_id* — the identifier of the user making the call\n",
    "\n",
    "The `messages` table (data on texts):\n",
    "\n",
    "- *id* — unique text message identifier\n",
    "- *message_date* — text message date\n",
    "- *user_id* — the identifier of the user sending the text\n",
    "\n",
    "The `internet` table (data on web sessions):\n",
    "\n",
    "- *id* — unique session identifier\n",
    "- *mb_used* — the volume of data spent during the session (in megabytes)\n",
    "- *session_date* — web session date\n",
    "- *user_id* — user identifier\n",
    "\n",
    "The `plans` table (data on the plans):\n",
    "\n",
    "- *plan_name* — calling plan name\n",
    "- *usd_monthly_fee* — monthly charge in US dollars\n",
    "- *minutes_included* — monthly minute allowance\n",
    "- *messages_included* — monthly text allowance\n",
    "- *mb_per_month_included* — data volume allowance (in megabytes)\n",
    "- *usd_per_minute* — price per minute after exceeding the package limits (e.g., if the package includes 100 minutes, the 101st minute will be charged)\n",
    "- *usd_per_message* — price per text after exceeding the package limits\n",
    "- *usd_per_gb* — price per extra gigabyte of data after exceeding the package limits (1 GB = 1024 megabytes)"
   ]
  },
  {
   "cell_type": "markdown",
   "metadata": {},
   "source": [
    "### Imports"
   ]
  },
  {
   "cell_type": "code",
   "execution_count": 1,
   "metadata": {},
   "outputs": [
    {
     "name": "stdout",
     "output_type": "stream",
     "text": [
      "Setup Complete\n"
     ]
    }
   ],
   "source": [
    "import pandas as pd\n",
    "import numpy as np\n",
    "import scipy\n",
    "import matplotlib\n",
    "\n",
    "from scipy import stats as st\n",
    "\n",
    "import matplotlib.pyplot as plt\n",
    "%matplotlib inline\n",
    "\n",
    "import sys\n",
    "import warnings\n",
    "if not sys.warnoptions:\n",
    "       warnings.simplefilter(\"ignore\")\n",
    "\n",
    "# pd.set_option('display.max_rows', None)\n",
    "\n",
    "print(\"Setup Complete\")"
   ]
  },
  {
   "cell_type": "markdown",
   "metadata": {},
   "source": [
    "### Library version check and update"
   ]
  },
  {
   "cell_type": "code",
   "execution_count": 2,
   "metadata": {},
   "outputs": [],
   "source": [
    "version_dict = {pd:'1.0.1', np:'1.18.1', scipy:'1.6.0', matplotlib:'3.1.3'}"
   ]
  },
  {
   "cell_type": "code",
   "execution_count": 3,
   "metadata": {},
   "outputs": [],
   "source": [
    "def get_value(my_key):\n",
    "    \"\"\"\n",
    "    If the val can be found in the dictinary.values() list, \n",
    "    returns the key of the dictionary item in which the val was found.\n",
    "    \"\"\"\n",
    "    wrong_val = []\n",
    "    \n",
    "    for key, value in version_dict.items(): \n",
    "        try:\n",
    "            if key == my_key: \n",
    "                return value\n",
    "        except:\n",
    "            wrong_val.append(key, value)"
   ]
  },
  {
   "cell_type": "code",
   "execution_count": 4,
   "metadata": {},
   "outputs": [],
   "source": [
    "for lib in version_dict.keys():\n",
    "    if lib.__version__ != get_value(lib):\n",
    "        print(\"Warning: update\", lib, 'to', get_value(lib))"
   ]
  },
  {
   "cell_type": "markdown",
   "metadata": {},
   "source": [
    "In order to update scipy library to 1.6.0 version, run the following line:"
   ]
  },
  {
   "cell_type": "code",
   "execution_count": 5,
   "metadata": {},
   "outputs": [
    {
     "name": "stdout",
     "output_type": "stream",
     "text": [
      "Requirement already satisfied: scipy==1.6.0 in /anaconda3/lib/python3.7/site-packages (1.6.0)\r\n",
      "Requirement already satisfied: numpy>=1.16.5 in /anaconda3/lib/python3.7/site-packages (from scipy==1.6.0) (1.18.2)\r\n"
     ]
    }
   ],
   "source": [
    "!pip install scipy==1.6.0"
   ]
  },
  {
   "cell_type": "markdown",
   "metadata": {},
   "source": [
    "### Input data"
   ]
  },
  {
   "cell_type": "code",
   "execution_count": 6,
   "metadata": {},
   "outputs": [],
   "source": [
    "try:\n",
    "    df_users = pd.read_csv('megaline_users.csv')\n",
    "    df_messages = pd.read_csv('megaline_messages.csv')\n",
    "    df_calls = pd.read_csv('megaline_calls.csv')\n",
    "    df_internet = pd.read_csv('megaline_internet.csv')\n",
    "    df_plans = pd.read_csv('megaline_plans.csv')\n",
    "except:\n",
    "    df_users = pd.read_csv('/datasets/megaline_users.csv')\n",
    "    df_messages = pd.read_csv('/datasets/megaline_messages.csv')\n",
    "    df_calls = pd.read_csv('/datasets/megaline_calls.csv')\n",
    "    df_internet = pd.read_csv('/datasets/megaline_internet.csv')\n",
    "    df_plans = pd.read_csv('/datasets/megaline_plans.csv')"
   ]
  },
  {
   "cell_type": "markdown",
   "metadata": {},
   "source": [
    "### Overview\n",
    "#### Users"
   ]
  },
  {
   "cell_type": "code",
   "execution_count": 7,
   "metadata": {},
   "outputs": [
    {
     "data": {
      "text/html": [
       "<div>\n",
       "<style scoped>\n",
       "    .dataframe tbody tr th:only-of-type {\n",
       "        vertical-align: middle;\n",
       "    }\n",
       "\n",
       "    .dataframe tbody tr th {\n",
       "        vertical-align: top;\n",
       "    }\n",
       "\n",
       "    .dataframe thead th {\n",
       "        text-align: right;\n",
       "    }\n",
       "</style>\n",
       "<table border=\"1\" class=\"dataframe\">\n",
       "  <thead>\n",
       "    <tr style=\"text-align: right;\">\n",
       "      <th></th>\n",
       "      <th>user_id</th>\n",
       "      <th>first_name</th>\n",
       "      <th>last_name</th>\n",
       "      <th>age</th>\n",
       "      <th>city</th>\n",
       "      <th>reg_date</th>\n",
       "      <th>plan</th>\n",
       "      <th>churn_date</th>\n",
       "    </tr>\n",
       "  </thead>\n",
       "  <tbody>\n",
       "    <tr>\n",
       "      <th>0</th>\n",
       "      <td>1000</td>\n",
       "      <td>Anamaria</td>\n",
       "      <td>Bauer</td>\n",
       "      <td>45</td>\n",
       "      <td>Atlanta-Sandy Springs-Roswell, GA MSA</td>\n",
       "      <td>2018-12-24</td>\n",
       "      <td>ultimate</td>\n",
       "      <td>NaN</td>\n",
       "    </tr>\n",
       "    <tr>\n",
       "      <th>1</th>\n",
       "      <td>1001</td>\n",
       "      <td>Mickey</td>\n",
       "      <td>Wilkerson</td>\n",
       "      <td>28</td>\n",
       "      <td>Seattle-Tacoma-Bellevue, WA MSA</td>\n",
       "      <td>2018-08-13</td>\n",
       "      <td>surf</td>\n",
       "      <td>NaN</td>\n",
       "    </tr>\n",
       "    <tr>\n",
       "      <th>2</th>\n",
       "      <td>1002</td>\n",
       "      <td>Carlee</td>\n",
       "      <td>Hoffman</td>\n",
       "      <td>36</td>\n",
       "      <td>Las Vegas-Henderson-Paradise, NV MSA</td>\n",
       "      <td>2018-10-21</td>\n",
       "      <td>surf</td>\n",
       "      <td>NaN</td>\n",
       "    </tr>\n",
       "    <tr>\n",
       "      <th>3</th>\n",
       "      <td>1003</td>\n",
       "      <td>Reynaldo</td>\n",
       "      <td>Jenkins</td>\n",
       "      <td>52</td>\n",
       "      <td>Tulsa, OK MSA</td>\n",
       "      <td>2018-01-28</td>\n",
       "      <td>surf</td>\n",
       "      <td>NaN</td>\n",
       "    </tr>\n",
       "    <tr>\n",
       "      <th>4</th>\n",
       "      <td>1004</td>\n",
       "      <td>Leonila</td>\n",
       "      <td>Thompson</td>\n",
       "      <td>40</td>\n",
       "      <td>Seattle-Tacoma-Bellevue, WA MSA</td>\n",
       "      <td>2018-05-23</td>\n",
       "      <td>surf</td>\n",
       "      <td>NaN</td>\n",
       "    </tr>\n",
       "  </tbody>\n",
       "</table>\n",
       "</div>"
      ],
      "text/plain": [
       "   user_id first_name  last_name  age                                   city  \\\n",
       "0     1000   Anamaria      Bauer   45  Atlanta-Sandy Springs-Roswell, GA MSA   \n",
       "1     1001     Mickey  Wilkerson   28        Seattle-Tacoma-Bellevue, WA MSA   \n",
       "2     1002     Carlee    Hoffman   36   Las Vegas-Henderson-Paradise, NV MSA   \n",
       "3     1003   Reynaldo    Jenkins   52                          Tulsa, OK MSA   \n",
       "4     1004    Leonila   Thompson   40        Seattle-Tacoma-Bellevue, WA MSA   \n",
       "\n",
       "     reg_date      plan churn_date  \n",
       "0  2018-12-24  ultimate        NaN  \n",
       "1  2018-08-13      surf        NaN  \n",
       "2  2018-10-21      surf        NaN  \n",
       "3  2018-01-28      surf        NaN  \n",
       "4  2018-05-23      surf        NaN  "
      ]
     },
     "execution_count": 7,
     "metadata": {},
     "output_type": "execute_result"
    }
   ],
   "source": [
    "df_users.head()"
   ]
  },
  {
   "cell_type": "markdown",
   "metadata": {},
   "source": [
    "The `churn_date` is the date the user stopped using the service. If the value is missing, the calling plan was being used when this database was extracted. For the further analysis we will need to replace 'NaN' with the string 'in use'."
   ]
  },
  {
   "cell_type": "code",
   "execution_count": 8,
   "metadata": {},
   "outputs": [
    {
     "name": "stdout",
     "output_type": "stream",
     "text": [
      "<class 'pandas.core.frame.DataFrame'>\n",
      "RangeIndex: 500 entries, 0 to 499\n",
      "Data columns (total 8 columns):\n",
      " #   Column      Non-Null Count  Dtype \n",
      "---  ------      --------------  ----- \n",
      " 0   user_id     500 non-null    int64 \n",
      " 1   first_name  500 non-null    object\n",
      " 2   last_name   500 non-null    object\n",
      " 3   age         500 non-null    int64 \n",
      " 4   city        500 non-null    object\n",
      " 5   reg_date    500 non-null    object\n",
      " 6   plan        500 non-null    object\n",
      " 7   churn_date  34 non-null     object\n",
      "dtypes: int64(2), object(6)\n",
      "memory usage: 31.4+ KB\n"
     ]
    }
   ],
   "source": [
    "df_users.info()"
   ]
  },
  {
   "cell_type": "markdown",
   "metadata": {},
   "source": [
    "No missing values, except for the `churn_date` column. The 2 date features have the object type, we will change it to the datetime type."
   ]
  },
  {
   "cell_type": "code",
   "execution_count": 9,
   "metadata": {},
   "outputs": [
    {
     "data": {
      "text/html": [
       "<div>\n",
       "<style scoped>\n",
       "    .dataframe tbody tr th:only-of-type {\n",
       "        vertical-align: middle;\n",
       "    }\n",
       "\n",
       "    .dataframe tbody tr th {\n",
       "        vertical-align: top;\n",
       "    }\n",
       "\n",
       "    .dataframe thead th {\n",
       "        text-align: right;\n",
       "    }\n",
       "</style>\n",
       "<table border=\"1\" class=\"dataframe\">\n",
       "  <thead>\n",
       "    <tr style=\"text-align: right;\">\n",
       "      <th></th>\n",
       "      <th>user_id</th>\n",
       "      <th>age</th>\n",
       "    </tr>\n",
       "  </thead>\n",
       "  <tbody>\n",
       "    <tr>\n",
       "      <th>count</th>\n",
       "      <td>500.000000</td>\n",
       "      <td>500.000000</td>\n",
       "    </tr>\n",
       "    <tr>\n",
       "      <th>mean</th>\n",
       "      <td>1249.500000</td>\n",
       "      <td>45.486000</td>\n",
       "    </tr>\n",
       "    <tr>\n",
       "      <th>std</th>\n",
       "      <td>144.481833</td>\n",
       "      <td>16.972269</td>\n",
       "    </tr>\n",
       "    <tr>\n",
       "      <th>min</th>\n",
       "      <td>1000.000000</td>\n",
       "      <td>18.000000</td>\n",
       "    </tr>\n",
       "    <tr>\n",
       "      <th>25%</th>\n",
       "      <td>1124.750000</td>\n",
       "      <td>30.000000</td>\n",
       "    </tr>\n",
       "    <tr>\n",
       "      <th>50%</th>\n",
       "      <td>1249.500000</td>\n",
       "      <td>46.000000</td>\n",
       "    </tr>\n",
       "    <tr>\n",
       "      <th>75%</th>\n",
       "      <td>1374.250000</td>\n",
       "      <td>61.000000</td>\n",
       "    </tr>\n",
       "    <tr>\n",
       "      <th>max</th>\n",
       "      <td>1499.000000</td>\n",
       "      <td>75.000000</td>\n",
       "    </tr>\n",
       "  </tbody>\n",
       "</table>\n",
       "</div>"
      ],
      "text/plain": [
       "           user_id         age\n",
       "count   500.000000  500.000000\n",
       "mean   1249.500000   45.486000\n",
       "std     144.481833   16.972269\n",
       "min    1000.000000   18.000000\n",
       "25%    1124.750000   30.000000\n",
       "50%    1249.500000   46.000000\n",
       "75%    1374.250000   61.000000\n",
       "max    1499.000000   75.000000"
      ]
     },
     "execution_count": 9,
     "metadata": {},
     "output_type": "execute_result"
    }
   ],
   "source": [
    "df_users.describe()"
   ]
  },
  {
   "cell_type": "markdown",
   "metadata": {},
   "source": [
    "The dataset contains information about 500 users. Most of them are 45-46 years old. The age range is from 18 to 75 years old. No visible outliers here."
   ]
  },
  {
   "cell_type": "markdown",
   "metadata": {},
   "source": [
    "#### Messages"
   ]
  },
  {
   "cell_type": "code",
   "execution_count": 10,
   "metadata": {},
   "outputs": [
    {
     "data": {
      "text/html": [
       "<div>\n",
       "<style scoped>\n",
       "    .dataframe tbody tr th:only-of-type {\n",
       "        vertical-align: middle;\n",
       "    }\n",
       "\n",
       "    .dataframe tbody tr th {\n",
       "        vertical-align: top;\n",
       "    }\n",
       "\n",
       "    .dataframe thead th {\n",
       "        text-align: right;\n",
       "    }\n",
       "</style>\n",
       "<table border=\"1\" class=\"dataframe\">\n",
       "  <thead>\n",
       "    <tr style=\"text-align: right;\">\n",
       "      <th></th>\n",
       "      <th>id</th>\n",
       "      <th>user_id</th>\n",
       "      <th>message_date</th>\n",
       "    </tr>\n",
       "  </thead>\n",
       "  <tbody>\n",
       "    <tr>\n",
       "      <th>0</th>\n",
       "      <td>1000_125</td>\n",
       "      <td>1000</td>\n",
       "      <td>2018-12-27</td>\n",
       "    </tr>\n",
       "    <tr>\n",
       "      <th>1</th>\n",
       "      <td>1000_160</td>\n",
       "      <td>1000</td>\n",
       "      <td>2018-12-31</td>\n",
       "    </tr>\n",
       "    <tr>\n",
       "      <th>2</th>\n",
       "      <td>1000_223</td>\n",
       "      <td>1000</td>\n",
       "      <td>2018-12-31</td>\n",
       "    </tr>\n",
       "    <tr>\n",
       "      <th>3</th>\n",
       "      <td>1000_251</td>\n",
       "      <td>1000</td>\n",
       "      <td>2018-12-27</td>\n",
       "    </tr>\n",
       "    <tr>\n",
       "      <th>4</th>\n",
       "      <td>1000_255</td>\n",
       "      <td>1000</td>\n",
       "      <td>2018-12-26</td>\n",
       "    </tr>\n",
       "  </tbody>\n",
       "</table>\n",
       "</div>"
      ],
      "text/plain": [
       "         id  user_id message_date\n",
       "0  1000_125     1000   2018-12-27\n",
       "1  1000_160     1000   2018-12-31\n",
       "2  1000_223     1000   2018-12-31\n",
       "3  1000_251     1000   2018-12-27\n",
       "4  1000_255     1000   2018-12-26"
      ]
     },
     "execution_count": 10,
     "metadata": {},
     "output_type": "execute_result"
    }
   ],
   "source": [
    "df_messages.head()"
   ]
  },
  {
   "cell_type": "code",
   "execution_count": 11,
   "metadata": {},
   "outputs": [
    {
     "name": "stdout",
     "output_type": "stream",
     "text": [
      "<class 'pandas.core.frame.DataFrame'>\n",
      "RangeIndex: 76051 entries, 0 to 76050\n",
      "Data columns (total 3 columns):\n",
      " #   Column        Non-Null Count  Dtype \n",
      "---  ------        --------------  ----- \n",
      " 0   id            76051 non-null  object\n",
      " 1   user_id       76051 non-null  int64 \n",
      " 2   message_date  76051 non-null  object\n",
      "dtypes: int64(1), object(2)\n",
      "memory usage: 1.7+ MB\n"
     ]
    }
   ],
   "source": [
    "df_messages.info()"
   ]
  },
  {
   "cell_type": "markdown",
   "metadata": {},
   "source": [
    "No missing values, `message_date` type should be changed to datetime format. `id` column has the object dtype which is harder to work with than integers. We may later decide to extract the message number for each user and group the table by user."
   ]
  },
  {
   "cell_type": "code",
   "execution_count": 12,
   "metadata": {},
   "outputs": [
    {
     "data": {
      "text/html": [
       "<div>\n",
       "<style scoped>\n",
       "    .dataframe tbody tr th:only-of-type {\n",
       "        vertical-align: middle;\n",
       "    }\n",
       "\n",
       "    .dataframe tbody tr th {\n",
       "        vertical-align: top;\n",
       "    }\n",
       "\n",
       "    .dataframe thead th {\n",
       "        text-align: right;\n",
       "    }\n",
       "</style>\n",
       "<table border=\"1\" class=\"dataframe\">\n",
       "  <thead>\n",
       "    <tr style=\"text-align: right;\">\n",
       "      <th></th>\n",
       "      <th>user_id</th>\n",
       "    </tr>\n",
       "  </thead>\n",
       "  <tbody>\n",
       "    <tr>\n",
       "      <th>count</th>\n",
       "      <td>76051.000000</td>\n",
       "    </tr>\n",
       "    <tr>\n",
       "      <th>mean</th>\n",
       "      <td>1245.972768</td>\n",
       "    </tr>\n",
       "    <tr>\n",
       "      <th>std</th>\n",
       "      <td>139.843635</td>\n",
       "    </tr>\n",
       "    <tr>\n",
       "      <th>min</th>\n",
       "      <td>1000.000000</td>\n",
       "    </tr>\n",
       "    <tr>\n",
       "      <th>25%</th>\n",
       "      <td>1123.000000</td>\n",
       "    </tr>\n",
       "    <tr>\n",
       "      <th>50%</th>\n",
       "      <td>1251.000000</td>\n",
       "    </tr>\n",
       "    <tr>\n",
       "      <th>75%</th>\n",
       "      <td>1362.000000</td>\n",
       "    </tr>\n",
       "    <tr>\n",
       "      <th>max</th>\n",
       "      <td>1497.000000</td>\n",
       "    </tr>\n",
       "  </tbody>\n",
       "</table>\n",
       "</div>"
      ],
      "text/plain": [
       "            user_id\n",
       "count  76051.000000\n",
       "mean    1245.972768\n",
       "std      139.843635\n",
       "min     1000.000000\n",
       "25%     1123.000000\n",
       "50%     1251.000000\n",
       "75%     1362.000000\n",
       "max     1497.000000"
      ]
     },
     "execution_count": 12,
     "metadata": {},
     "output_type": "execute_result"
    }
   ],
   "source": [
    "df_messages.describe()"
   ]
  },
  {
   "cell_type": "markdown",
   "metadata": {},
   "source": [
    "`user_id` starts from 1000 and ends with 1497. It means that 2 users were not messaging at all. "
   ]
  },
  {
   "cell_type": "markdown",
   "metadata": {},
   "source": [
    "#### Calls"
   ]
  },
  {
   "cell_type": "code",
   "execution_count": 13,
   "metadata": {},
   "outputs": [
    {
     "data": {
      "text/html": [
       "<div>\n",
       "<style scoped>\n",
       "    .dataframe tbody tr th:only-of-type {\n",
       "        vertical-align: middle;\n",
       "    }\n",
       "\n",
       "    .dataframe tbody tr th {\n",
       "        vertical-align: top;\n",
       "    }\n",
       "\n",
       "    .dataframe thead th {\n",
       "        text-align: right;\n",
       "    }\n",
       "</style>\n",
       "<table border=\"1\" class=\"dataframe\">\n",
       "  <thead>\n",
       "    <tr style=\"text-align: right;\">\n",
       "      <th></th>\n",
       "      <th>id</th>\n",
       "      <th>user_id</th>\n",
       "      <th>call_date</th>\n",
       "      <th>duration</th>\n",
       "    </tr>\n",
       "  </thead>\n",
       "  <tbody>\n",
       "    <tr>\n",
       "      <th>0</th>\n",
       "      <td>1000_93</td>\n",
       "      <td>1000</td>\n",
       "      <td>2018-12-27</td>\n",
       "      <td>8.52</td>\n",
       "    </tr>\n",
       "    <tr>\n",
       "      <th>1</th>\n",
       "      <td>1000_145</td>\n",
       "      <td>1000</td>\n",
       "      <td>2018-12-27</td>\n",
       "      <td>13.66</td>\n",
       "    </tr>\n",
       "    <tr>\n",
       "      <th>2</th>\n",
       "      <td>1000_247</td>\n",
       "      <td>1000</td>\n",
       "      <td>2018-12-27</td>\n",
       "      <td>14.48</td>\n",
       "    </tr>\n",
       "    <tr>\n",
       "      <th>3</th>\n",
       "      <td>1000_309</td>\n",
       "      <td>1000</td>\n",
       "      <td>2018-12-28</td>\n",
       "      <td>5.76</td>\n",
       "    </tr>\n",
       "    <tr>\n",
       "      <th>4</th>\n",
       "      <td>1000_380</td>\n",
       "      <td>1000</td>\n",
       "      <td>2018-12-30</td>\n",
       "      <td>4.22</td>\n",
       "    </tr>\n",
       "  </tbody>\n",
       "</table>\n",
       "</div>"
      ],
      "text/plain": [
       "         id  user_id   call_date  duration\n",
       "0   1000_93     1000  2018-12-27      8.52\n",
       "1  1000_145     1000  2018-12-27     13.66\n",
       "2  1000_247     1000  2018-12-27     14.48\n",
       "3  1000_309     1000  2018-12-28      5.76\n",
       "4  1000_380     1000  2018-12-30      4.22"
      ]
     },
     "execution_count": 13,
     "metadata": {},
     "output_type": "execute_result"
    }
   ],
   "source": [
    "df_calls.head()"
   ]
  },
  {
   "cell_type": "code",
   "execution_count": 14,
   "metadata": {},
   "outputs": [
    {
     "name": "stdout",
     "output_type": "stream",
     "text": [
      "<class 'pandas.core.frame.DataFrame'>\n",
      "RangeIndex: 137735 entries, 0 to 137734\n",
      "Data columns (total 4 columns):\n",
      " #   Column     Non-Null Count   Dtype  \n",
      "---  ------     --------------   -----  \n",
      " 0   id         137735 non-null  object \n",
      " 1   user_id    137735 non-null  int64  \n",
      " 2   call_date  137735 non-null  object \n",
      " 3   duration   137735 non-null  float64\n",
      "dtypes: float64(1), int64(1), object(2)\n",
      "memory usage: 4.2+ MB\n"
     ]
    }
   ],
   "source": [
    "df_calls.info()"
   ]
  },
  {
   "cell_type": "markdown",
   "metadata": {},
   "source": [
    "No missing values, `call_date` should be changed to datetime format. The `duration` column has the float dtype but the policy of the company is to round up seconds to minutes, so we should convert this column to integers."
   ]
  },
  {
   "cell_type": "code",
   "execution_count": 15,
   "metadata": {},
   "outputs": [
    {
     "data": {
      "text/html": [
       "<div>\n",
       "<style scoped>\n",
       "    .dataframe tbody tr th:only-of-type {\n",
       "        vertical-align: middle;\n",
       "    }\n",
       "\n",
       "    .dataframe tbody tr th {\n",
       "        vertical-align: top;\n",
       "    }\n",
       "\n",
       "    .dataframe thead th {\n",
       "        text-align: right;\n",
       "    }\n",
       "</style>\n",
       "<table border=\"1\" class=\"dataframe\">\n",
       "  <thead>\n",
       "    <tr style=\"text-align: right;\">\n",
       "      <th></th>\n",
       "      <th>user_id</th>\n",
       "      <th>duration</th>\n",
       "    </tr>\n",
       "  </thead>\n",
       "  <tbody>\n",
       "    <tr>\n",
       "      <th>count</th>\n",
       "      <td>137735.000000</td>\n",
       "      <td>137735.000000</td>\n",
       "    </tr>\n",
       "    <tr>\n",
       "      <th>mean</th>\n",
       "      <td>1247.658046</td>\n",
       "      <td>6.745927</td>\n",
       "    </tr>\n",
       "    <tr>\n",
       "      <th>std</th>\n",
       "      <td>139.416268</td>\n",
       "      <td>5.839241</td>\n",
       "    </tr>\n",
       "    <tr>\n",
       "      <th>min</th>\n",
       "      <td>1000.000000</td>\n",
       "      <td>0.000000</td>\n",
       "    </tr>\n",
       "    <tr>\n",
       "      <th>25%</th>\n",
       "      <td>1128.000000</td>\n",
       "      <td>1.290000</td>\n",
       "    </tr>\n",
       "    <tr>\n",
       "      <th>50%</th>\n",
       "      <td>1247.000000</td>\n",
       "      <td>5.980000</td>\n",
       "    </tr>\n",
       "    <tr>\n",
       "      <th>75%</th>\n",
       "      <td>1365.000000</td>\n",
       "      <td>10.690000</td>\n",
       "    </tr>\n",
       "    <tr>\n",
       "      <th>max</th>\n",
       "      <td>1499.000000</td>\n",
       "      <td>37.600000</td>\n",
       "    </tr>\n",
       "  </tbody>\n",
       "</table>\n",
       "</div>"
      ],
      "text/plain": [
       "             user_id       duration\n",
       "count  137735.000000  137735.000000\n",
       "mean     1247.658046       6.745927\n",
       "std       139.416268       5.839241\n",
       "min      1000.000000       0.000000\n",
       "25%      1128.000000       1.290000\n",
       "50%      1247.000000       5.980000\n",
       "75%      1365.000000      10.690000\n",
       "max      1499.000000      37.600000"
      ]
     },
     "execution_count": 15,
     "metadata": {},
     "output_type": "execute_result"
    }
   ],
   "source": [
    "df_calls.describe()"
   ]
  },
  {
   "cell_type": "markdown",
   "metadata": {},
   "source": [
    "There are 137 735 calls in the data set. The average and medium duration is about 6-7 minutes. Mean and median values are close to each other, meaning that the distribution does not have heavy tails. The minimum duration of a call is 0, which probably means a few seconds, according to the company's policy we should round it up to 1 minute. The maximum call duration is 38 minutes."
   ]
  },
  {
   "cell_type": "markdown",
   "metadata": {},
   "source": [
    "#### Internet"
   ]
  },
  {
   "cell_type": "code",
   "execution_count": 16,
   "metadata": {},
   "outputs": [
    {
     "data": {
      "text/html": [
       "<div>\n",
       "<style scoped>\n",
       "    .dataframe tbody tr th:only-of-type {\n",
       "        vertical-align: middle;\n",
       "    }\n",
       "\n",
       "    .dataframe tbody tr th {\n",
       "        vertical-align: top;\n",
       "    }\n",
       "\n",
       "    .dataframe thead th {\n",
       "        text-align: right;\n",
       "    }\n",
       "</style>\n",
       "<table border=\"1\" class=\"dataframe\">\n",
       "  <thead>\n",
       "    <tr style=\"text-align: right;\">\n",
       "      <th></th>\n",
       "      <th>id</th>\n",
       "      <th>user_id</th>\n",
       "      <th>session_date</th>\n",
       "      <th>mb_used</th>\n",
       "    </tr>\n",
       "  </thead>\n",
       "  <tbody>\n",
       "    <tr>\n",
       "      <th>0</th>\n",
       "      <td>1000_13</td>\n",
       "      <td>1000</td>\n",
       "      <td>2018-12-29</td>\n",
       "      <td>89.86</td>\n",
       "    </tr>\n",
       "    <tr>\n",
       "      <th>1</th>\n",
       "      <td>1000_204</td>\n",
       "      <td>1000</td>\n",
       "      <td>2018-12-31</td>\n",
       "      <td>0.00</td>\n",
       "    </tr>\n",
       "    <tr>\n",
       "      <th>2</th>\n",
       "      <td>1000_379</td>\n",
       "      <td>1000</td>\n",
       "      <td>2018-12-28</td>\n",
       "      <td>660.40</td>\n",
       "    </tr>\n",
       "    <tr>\n",
       "      <th>3</th>\n",
       "      <td>1000_413</td>\n",
       "      <td>1000</td>\n",
       "      <td>2018-12-26</td>\n",
       "      <td>270.99</td>\n",
       "    </tr>\n",
       "    <tr>\n",
       "      <th>4</th>\n",
       "      <td>1000_442</td>\n",
       "      <td>1000</td>\n",
       "      <td>2018-12-27</td>\n",
       "      <td>880.22</td>\n",
       "    </tr>\n",
       "  </tbody>\n",
       "</table>\n",
       "</div>"
      ],
      "text/plain": [
       "         id  user_id session_date  mb_used\n",
       "0   1000_13     1000   2018-12-29    89.86\n",
       "1  1000_204     1000   2018-12-31     0.00\n",
       "2  1000_379     1000   2018-12-28   660.40\n",
       "3  1000_413     1000   2018-12-26   270.99\n",
       "4  1000_442     1000   2018-12-27   880.22"
      ]
     },
     "execution_count": 16,
     "metadata": {},
     "output_type": "execute_result"
    }
   ],
   "source": [
    "df_internet.head()"
   ]
  },
  {
   "cell_type": "code",
   "execution_count": 17,
   "metadata": {},
   "outputs": [
    {
     "name": "stdout",
     "output_type": "stream",
     "text": [
      "<class 'pandas.core.frame.DataFrame'>\n",
      "RangeIndex: 104825 entries, 0 to 104824\n",
      "Data columns (total 4 columns):\n",
      " #   Column        Non-Null Count   Dtype  \n",
      "---  ------        --------------   -----  \n",
      " 0   id            104825 non-null  object \n",
      " 1   user_id       104825 non-null  int64  \n",
      " 2   session_date  104825 non-null  object \n",
      " 3   mb_used       104825 non-null  float64\n",
      "dtypes: float64(1), int64(1), object(2)\n",
      "memory usage: 3.2+ MB\n"
     ]
    }
   ],
   "source": [
    "df_internet.info()"
   ]
  },
  {
   "cell_type": "markdown",
   "metadata": {},
   "source": [
    "No missing values, `session_date` type should be changed from object to datetime. For web traffic, individual web sessions are not rounded up. Instead, the total for the month is rounded up."
   ]
  },
  {
   "cell_type": "code",
   "execution_count": 18,
   "metadata": {},
   "outputs": [
    {
     "data": {
      "text/html": [
       "<div>\n",
       "<style scoped>\n",
       "    .dataframe tbody tr th:only-of-type {\n",
       "        vertical-align: middle;\n",
       "    }\n",
       "\n",
       "    .dataframe tbody tr th {\n",
       "        vertical-align: top;\n",
       "    }\n",
       "\n",
       "    .dataframe thead th {\n",
       "        text-align: right;\n",
       "    }\n",
       "</style>\n",
       "<table border=\"1\" class=\"dataframe\">\n",
       "  <thead>\n",
       "    <tr style=\"text-align: right;\">\n",
       "      <th></th>\n",
       "      <th>user_id</th>\n",
       "      <th>mb_used</th>\n",
       "    </tr>\n",
       "  </thead>\n",
       "  <tbody>\n",
       "    <tr>\n",
       "      <th>count</th>\n",
       "      <td>104825.000000</td>\n",
       "      <td>104825.000000</td>\n",
       "    </tr>\n",
       "    <tr>\n",
       "      <th>mean</th>\n",
       "      <td>1242.496361</td>\n",
       "      <td>366.713701</td>\n",
       "    </tr>\n",
       "    <tr>\n",
       "      <th>std</th>\n",
       "      <td>142.053913</td>\n",
       "      <td>277.170542</td>\n",
       "    </tr>\n",
       "    <tr>\n",
       "      <th>min</th>\n",
       "      <td>1000.000000</td>\n",
       "      <td>0.000000</td>\n",
       "    </tr>\n",
       "    <tr>\n",
       "      <th>25%</th>\n",
       "      <td>1122.000000</td>\n",
       "      <td>136.080000</td>\n",
       "    </tr>\n",
       "    <tr>\n",
       "      <th>50%</th>\n",
       "      <td>1236.000000</td>\n",
       "      <td>343.980000</td>\n",
       "    </tr>\n",
       "    <tr>\n",
       "      <th>75%</th>\n",
       "      <td>1367.000000</td>\n",
       "      <td>554.610000</td>\n",
       "    </tr>\n",
       "    <tr>\n",
       "      <th>max</th>\n",
       "      <td>1499.000000</td>\n",
       "      <td>1693.470000</td>\n",
       "    </tr>\n",
       "  </tbody>\n",
       "</table>\n",
       "</div>"
      ],
      "text/plain": [
       "             user_id        mb_used\n",
       "count  104825.000000  104825.000000\n",
       "mean     1242.496361     366.713701\n",
       "std       142.053913     277.170542\n",
       "min      1000.000000       0.000000\n",
       "25%      1122.000000     136.080000\n",
       "50%      1236.000000     343.980000\n",
       "75%      1367.000000     554.610000\n",
       "max      1499.000000    1693.470000"
      ]
     },
     "execution_count": 18,
     "metadata": {},
     "output_type": "execute_result"
    }
   ],
   "source": [
    "df_internet.describe()"
   ]
  },
  {
   "cell_type": "markdown",
   "metadata": {},
   "source": [
    "There are 104 825 sessions in this data set. The mean and median values are close (around 350 mb), meaning this distribution does not have heavy tails either. The megabyte usage ranges from almost 0 to almost 1700."
   ]
  },
  {
   "cell_type": "markdown",
   "metadata": {},
   "source": [
    "#### Plans"
   ]
  },
  {
   "cell_type": "code",
   "execution_count": 19,
   "metadata": {},
   "outputs": [
    {
     "data": {
      "text/html": [
       "<div>\n",
       "<style scoped>\n",
       "    .dataframe tbody tr th:only-of-type {\n",
       "        vertical-align: middle;\n",
       "    }\n",
       "\n",
       "    .dataframe tbody tr th {\n",
       "        vertical-align: top;\n",
       "    }\n",
       "\n",
       "    .dataframe thead th {\n",
       "        text-align: right;\n",
       "    }\n",
       "</style>\n",
       "<table border=\"1\" class=\"dataframe\">\n",
       "  <thead>\n",
       "    <tr style=\"text-align: right;\">\n",
       "      <th></th>\n",
       "      <th>messages_included</th>\n",
       "      <th>mb_per_month_included</th>\n",
       "      <th>minutes_included</th>\n",
       "      <th>usd_monthly_pay</th>\n",
       "      <th>usd_per_gb</th>\n",
       "      <th>usd_per_message</th>\n",
       "      <th>usd_per_minute</th>\n",
       "      <th>plan_name</th>\n",
       "    </tr>\n",
       "  </thead>\n",
       "  <tbody>\n",
       "    <tr>\n",
       "      <th>0</th>\n",
       "      <td>50</td>\n",
       "      <td>15360</td>\n",
       "      <td>500</td>\n",
       "      <td>20</td>\n",
       "      <td>10</td>\n",
       "      <td>0.03</td>\n",
       "      <td>0.03</td>\n",
       "      <td>surf</td>\n",
       "    </tr>\n",
       "    <tr>\n",
       "      <th>1</th>\n",
       "      <td>1000</td>\n",
       "      <td>30720</td>\n",
       "      <td>3000</td>\n",
       "      <td>70</td>\n",
       "      <td>7</td>\n",
       "      <td>0.01</td>\n",
       "      <td>0.01</td>\n",
       "      <td>ultimate</td>\n",
       "    </tr>\n",
       "  </tbody>\n",
       "</table>\n",
       "</div>"
      ],
      "text/plain": [
       "   messages_included  mb_per_month_included  minutes_included  \\\n",
       "0                 50                  15360               500   \n",
       "1               1000                  30720              3000   \n",
       "\n",
       "   usd_monthly_pay  usd_per_gb  usd_per_message  usd_per_minute plan_name  \n",
       "0               20          10             0.03            0.03      surf  \n",
       "1               70           7             0.01            0.01  ultimate  "
      ]
     },
     "execution_count": 19,
     "metadata": {},
     "output_type": "execute_result"
    }
   ],
   "source": [
    "df_plans"
   ]
  },
  {
   "cell_type": "code",
   "execution_count": 20,
   "metadata": {},
   "outputs": [
    {
     "name": "stdout",
     "output_type": "stream",
     "text": [
      "<class 'pandas.core.frame.DataFrame'>\n",
      "RangeIndex: 2 entries, 0 to 1\n",
      "Data columns (total 8 columns):\n",
      " #   Column                 Non-Null Count  Dtype  \n",
      "---  ------                 --------------  -----  \n",
      " 0   messages_included      2 non-null      int64  \n",
      " 1   mb_per_month_included  2 non-null      int64  \n",
      " 2   minutes_included       2 non-null      int64  \n",
      " 3   usd_monthly_pay        2 non-null      int64  \n",
      " 4   usd_per_gb             2 non-null      int64  \n",
      " 5   usd_per_message        2 non-null      float64\n",
      " 6   usd_per_minute         2 non-null      float64\n",
      " 7   plan_name              2 non-null      object \n",
      "dtypes: float64(2), int64(5), object(1)\n",
      "memory usage: 256.0+ bytes\n"
     ]
    }
   ],
   "source": [
    "df_plans.info()"
   ]
  },
  {
   "cell_type": "markdown",
   "metadata": {},
   "source": [
    "There are only 2 plans in this data set - 'Surf' and 'Ultimate'. No issues with this data."
   ]
  },
  {
   "cell_type": "markdown",
   "metadata": {},
   "source": [
    "### Preprocessing"
   ]
  },
  {
   "cell_type": "markdown",
   "metadata": {},
   "source": [
    "#### Data type change\n",
    "##### Dates"
   ]
  },
  {
   "cell_type": "code",
   "execution_count": 21,
   "metadata": {},
   "outputs": [],
   "source": [
    "for df in [df_users, df_messages, df_calls, df_internet]:\n",
    "    for col in ['reg_date','churn_date','message_date','call_date','session_date']:\n",
    "        if col in df.columns:\n",
    "            df[col] = pd.to_datetime(df[col])"
   ]
  },
  {
   "cell_type": "markdown",
   "metadata": {},
   "source": [
    "##### Call duration\n",
    "Let's round up all calls to minutes as per the company's policy."
   ]
  },
  {
   "cell_type": "code",
   "execution_count": 22,
   "metadata": {},
   "outputs": [],
   "source": [
    "df_calls['total_min_month'] = np.ceil((df_calls['duration'].values))"
   ]
  },
  {
   "cell_type": "markdown",
   "metadata": {},
   "source": [
    "#### Missing values\n",
    "\n",
    "As discussed above, we will replace missing values in the `churn_date` column with the string 'in use'"
   ]
  },
  {
   "cell_type": "code",
   "execution_count": 23,
   "metadata": {},
   "outputs": [],
   "source": [
    "df_users['churn_date'] = df_users['churn_date'].fillna('in use')"
   ]
  },
  {
   "cell_type": "markdown",
   "metadata": {},
   "source": [
    "#### Duplicates\n",
    "Let's check if any rows are duplicated in any data frames."
   ]
  },
  {
   "cell_type": "code",
   "execution_count": 24,
   "metadata": {},
   "outputs": [
    {
     "name": "stdout",
     "output_type": "stream",
     "text": [
      "None\n",
      "None\n",
      "None\n",
      "None\n"
     ]
    }
   ],
   "source": [
    "result = []\n",
    "for df in [df_users, df_messages, df_calls, df_internet]:\n",
    "    print(result.append(df.duplicated().sum()))"
   ]
  },
  {
   "cell_type": "markdown",
   "metadata": {},
   "source": [
    "#### Check for artifacts in user dates\n",
    "First, let's check if the `reg_date` is strictly less or equal than the `churn_date` in the df_users."
   ]
  },
  {
   "cell_type": "code",
   "execution_count": 25,
   "metadata": {},
   "outputs": [
    {
     "data": {
      "text/plain": [
       "0"
      ]
     },
     "execution_count": 25,
     "metadata": {},
     "output_type": "execute_result"
    }
   ],
   "source": [
    "date_check = df_users.query('churn_date != \"in use\"')\n",
    "sum(date_check['reg_date'] > date_check['churn_date'])"
   ]
  },
  {
   "cell_type": "markdown",
   "metadata": {},
   "source": [
    "We don't have any observations with wrong dates. \n",
    "\n",
    "Now let's verify that all user activity stays inside the interval between the `reg_date` and the `churn_date`. For that purpose we will create a df_dates with all the datetime features."
   ]
  },
  {
   "cell_type": "code",
   "execution_count": 26,
   "metadata": {},
   "outputs": [],
   "source": [
    "df_dates = df_users.merge(df_messages, how='left').merge(df_calls,how='left').merge(df_internet, how='left')"
   ]
  },
  {
   "cell_type": "code",
   "execution_count": 27,
   "metadata": {},
   "outputs": [
    {
     "data": {
      "text/plain": [
       "0"
      ]
     },
     "execution_count": 27,
     "metadata": {},
     "output_type": "execute_result"
    }
   ],
   "source": [
    "len(df_dates[df_dates['reg_date'] > df_dates['message_date']])"
   ]
  },
  {
   "cell_type": "code",
   "execution_count": 28,
   "metadata": {},
   "outputs": [
    {
     "data": {
      "text/plain": [
       "0"
      ]
     },
     "execution_count": 28,
     "metadata": {},
     "output_type": "execute_result"
    }
   ],
   "source": [
    "len(df_dates[df_dates['reg_date'] > df_dates['call_date']])"
   ]
  },
  {
   "cell_type": "code",
   "execution_count": 29,
   "metadata": {},
   "outputs": [
    {
     "data": {
      "text/plain": [
       "0"
      ]
     },
     "execution_count": 29,
     "metadata": {},
     "output_type": "execute_result"
    }
   ],
   "source": [
    "len(df_dates[df_dates['reg_date'] > df_dates['session_date']])"
   ]
  },
  {
   "cell_type": "markdown",
   "metadata": {},
   "source": [
    "No artifacts found in dates."
   ]
  },
  {
   "cell_type": "markdown",
   "metadata": {},
   "source": [
    "#### Calculations\n",
    "##### Calls per month\n",
    "To calculate the number of calls made and minutes used per month for each user, first we will extract month from the `call_date`column and then make a pivot table grouping by `user_id` and `call_month`."
   ]
  },
  {
   "cell_type": "code",
   "execution_count": 30,
   "metadata": {},
   "outputs": [],
   "source": [
    "df_calls['month'] = df_calls['call_date'].dt.month"
   ]
  },
  {
   "cell_type": "code",
   "execution_count": 31,
   "metadata": {},
   "outputs": [],
   "source": [
    "calls_per_month = df_calls.pivot_table(index=['user_id','month'], values='total_min_month', aggfunc='sum')\n",
    "calls_per_month = calls_per_month.reset_index()"
   ]
  },
  {
   "cell_type": "code",
   "execution_count": 32,
   "metadata": {},
   "outputs": [],
   "source": [
    "calls_per_month.columns = [\"user_id\",\"month\",\"total_min_month\"]"
   ]
  },
  {
   "cell_type": "code",
   "execution_count": 33,
   "metadata": {},
   "outputs": [
    {
     "data": {
      "text/html": [
       "<div>\n",
       "<style scoped>\n",
       "    .dataframe tbody tr th:only-of-type {\n",
       "        vertical-align: middle;\n",
       "    }\n",
       "\n",
       "    .dataframe tbody tr th {\n",
       "        vertical-align: top;\n",
       "    }\n",
       "\n",
       "    .dataframe thead th {\n",
       "        text-align: right;\n",
       "    }\n",
       "</style>\n",
       "<table border=\"1\" class=\"dataframe\">\n",
       "  <thead>\n",
       "    <tr style=\"text-align: right;\">\n",
       "      <th></th>\n",
       "      <th>user_id</th>\n",
       "      <th>month</th>\n",
       "      <th>total_min_month</th>\n",
       "    </tr>\n",
       "  </thead>\n",
       "  <tbody>\n",
       "    <tr>\n",
       "      <th>0</th>\n",
       "      <td>1000</td>\n",
       "      <td>12</td>\n",
       "      <td>124.0</td>\n",
       "    </tr>\n",
       "    <tr>\n",
       "      <th>1</th>\n",
       "      <td>1001</td>\n",
       "      <td>8</td>\n",
       "      <td>182.0</td>\n",
       "    </tr>\n",
       "    <tr>\n",
       "      <th>2</th>\n",
       "      <td>1001</td>\n",
       "      <td>9</td>\n",
       "      <td>315.0</td>\n",
       "    </tr>\n",
       "    <tr>\n",
       "      <th>3</th>\n",
       "      <td>1001</td>\n",
       "      <td>10</td>\n",
       "      <td>393.0</td>\n",
       "    </tr>\n",
       "    <tr>\n",
       "      <th>4</th>\n",
       "      <td>1001</td>\n",
       "      <td>11</td>\n",
       "      <td>426.0</td>\n",
       "    </tr>\n",
       "  </tbody>\n",
       "</table>\n",
       "</div>"
      ],
      "text/plain": [
       "   user_id  month  total_min_month\n",
       "0     1000     12            124.0\n",
       "1     1001      8            182.0\n",
       "2     1001      9            315.0\n",
       "3     1001     10            393.0\n",
       "4     1001     11            426.0"
      ]
     },
     "execution_count": 33,
     "metadata": {},
     "output_type": "execute_result"
    }
   ],
   "source": [
    "calls_per_month.head()"
   ]
  },
  {
   "cell_type": "markdown",
   "metadata": {},
   "source": [
    "##### Messages per month\n",
    "To calculate the number of text messages per month for each user, first we will extract month from the `message_date` column and then make a pivot table grouping by `user_id` and `message_month`."
   ]
  },
  {
   "cell_type": "code",
   "execution_count": 34,
   "metadata": {},
   "outputs": [],
   "source": [
    "df_messages['month'] = df_messages['message_date'].dt.month"
   ]
  },
  {
   "cell_type": "code",
   "execution_count": 35,
   "metadata": {},
   "outputs": [],
   "source": [
    "messages_per_month = df_messages.pivot_table(index=['user_id','month'], values='id', aggfunc='count')\n",
    "messages_per_month = messages_per_month.reset_index()\n",
    "messages_per_month.columns = ['user_id','month','num_messages_month']"
   ]
  },
  {
   "cell_type": "code",
   "execution_count": 36,
   "metadata": {},
   "outputs": [
    {
     "data": {
      "text/html": [
       "<div>\n",
       "<style scoped>\n",
       "    .dataframe tbody tr th:only-of-type {\n",
       "        vertical-align: middle;\n",
       "    }\n",
       "\n",
       "    .dataframe tbody tr th {\n",
       "        vertical-align: top;\n",
       "    }\n",
       "\n",
       "    .dataframe thead th {\n",
       "        text-align: right;\n",
       "    }\n",
       "</style>\n",
       "<table border=\"1\" class=\"dataframe\">\n",
       "  <thead>\n",
       "    <tr style=\"text-align: right;\">\n",
       "      <th></th>\n",
       "      <th>user_id</th>\n",
       "      <th>month</th>\n",
       "      <th>num_messages_month</th>\n",
       "    </tr>\n",
       "  </thead>\n",
       "  <tbody>\n",
       "    <tr>\n",
       "      <th>0</th>\n",
       "      <td>1000</td>\n",
       "      <td>12</td>\n",
       "      <td>11</td>\n",
       "    </tr>\n",
       "    <tr>\n",
       "      <th>1</th>\n",
       "      <td>1001</td>\n",
       "      <td>8</td>\n",
       "      <td>30</td>\n",
       "    </tr>\n",
       "    <tr>\n",
       "      <th>2</th>\n",
       "      <td>1001</td>\n",
       "      <td>9</td>\n",
       "      <td>44</td>\n",
       "    </tr>\n",
       "    <tr>\n",
       "      <th>3</th>\n",
       "      <td>1001</td>\n",
       "      <td>10</td>\n",
       "      <td>53</td>\n",
       "    </tr>\n",
       "    <tr>\n",
       "      <th>4</th>\n",
       "      <td>1001</td>\n",
       "      <td>11</td>\n",
       "      <td>36</td>\n",
       "    </tr>\n",
       "  </tbody>\n",
       "</table>\n",
       "</div>"
      ],
      "text/plain": [
       "   user_id  month  num_messages_month\n",
       "0     1000     12                  11\n",
       "1     1001      8                  30\n",
       "2     1001      9                  44\n",
       "3     1001     10                  53\n",
       "4     1001     11                  36"
      ]
     },
     "execution_count": 36,
     "metadata": {},
     "output_type": "execute_result"
    }
   ],
   "source": [
    "messages_per_month.head()"
   ]
  },
  {
   "cell_type": "markdown",
   "metadata": {},
   "source": [
    "##### Volume of data per month\n",
    "To calculate the volume of data per month for each user, first we will extract month from the `session_date` column and then make a pivot table grouping by `user_id` and `session_month`. For web traffic, the total volume in megabytes for the month is rounded up."
   ]
  },
  {
   "cell_type": "code",
   "execution_count": 37,
   "metadata": {},
   "outputs": [],
   "source": [
    "df_internet['month'] = df_internet['session_date'].dt.month"
   ]
  },
  {
   "cell_type": "code",
   "execution_count": 38,
   "metadata": {},
   "outputs": [],
   "source": [
    "sessions_per_month = df_internet.pivot_table(index=['user_id','month'], values='mb_used', aggfunc='sum')\n",
    "sessions_per_month = sessions_per_month.reset_index()\n",
    "\n",
    "sessions_per_month.columns = ['user_id', 'month', \"mb_volume_month\"]\n",
    "sessions_per_month['gb_volume_month'] = np.ceil((sessions_per_month['mb_volume_month'].values) / 1000).astype(int)"
   ]
  },
  {
   "cell_type": "code",
   "execution_count": 39,
   "metadata": {},
   "outputs": [
    {
     "data": {
      "text/html": [
       "<div>\n",
       "<style scoped>\n",
       "    .dataframe tbody tr th:only-of-type {\n",
       "        vertical-align: middle;\n",
       "    }\n",
       "\n",
       "    .dataframe tbody tr th {\n",
       "        vertical-align: top;\n",
       "    }\n",
       "\n",
       "    .dataframe thead th {\n",
       "        text-align: right;\n",
       "    }\n",
       "</style>\n",
       "<table border=\"1\" class=\"dataframe\">\n",
       "  <thead>\n",
       "    <tr style=\"text-align: right;\">\n",
       "      <th></th>\n",
       "      <th>user_id</th>\n",
       "      <th>month</th>\n",
       "      <th>mb_volume_month</th>\n",
       "      <th>gb_volume_month</th>\n",
       "    </tr>\n",
       "  </thead>\n",
       "  <tbody>\n",
       "    <tr>\n",
       "      <th>0</th>\n",
       "      <td>1000</td>\n",
       "      <td>12</td>\n",
       "      <td>1901.47</td>\n",
       "      <td>2</td>\n",
       "    </tr>\n",
       "    <tr>\n",
       "      <th>1</th>\n",
       "      <td>1001</td>\n",
       "      <td>8</td>\n",
       "      <td>6919.15</td>\n",
       "      <td>7</td>\n",
       "    </tr>\n",
       "    <tr>\n",
       "      <th>2</th>\n",
       "      <td>1001</td>\n",
       "      <td>9</td>\n",
       "      <td>13314.82</td>\n",
       "      <td>14</td>\n",
       "    </tr>\n",
       "    <tr>\n",
       "      <th>3</th>\n",
       "      <td>1001</td>\n",
       "      <td>10</td>\n",
       "      <td>22330.49</td>\n",
       "      <td>23</td>\n",
       "    </tr>\n",
       "    <tr>\n",
       "      <th>4</th>\n",
       "      <td>1001</td>\n",
       "      <td>11</td>\n",
       "      <td>18504.30</td>\n",
       "      <td>19</td>\n",
       "    </tr>\n",
       "  </tbody>\n",
       "</table>\n",
       "</div>"
      ],
      "text/plain": [
       "   user_id  month  mb_volume_month  gb_volume_month\n",
       "0     1000     12          1901.47                2\n",
       "1     1001      8          6919.15                7\n",
       "2     1001      9         13314.82               14\n",
       "3     1001     10         22330.49               23\n",
       "4     1001     11         18504.30               19"
      ]
     },
     "execution_count": 39,
     "metadata": {},
     "output_type": "execute_result"
    }
   ],
   "source": [
    "sessions_per_month.head()"
   ]
  },
  {
   "cell_type": "markdown",
   "metadata": {},
   "source": [
    "##### Monthly profit from each user\n",
    "To calculate this we will subtract the free package limit from the total number of calls, text messages, and data. Then we will multiply the result by the calling plan value and add the monthly charge depending on the calling plan."
   ]
  },
  {
   "cell_type": "code",
   "execution_count": 40,
   "metadata": {},
   "outputs": [],
   "source": [
    "user_plan = df_users[['user_id','plan','city']]\n",
    "user_plan = user_plan.merge(df_plans, left_on='plan', right_on='plan_name')"
   ]
  },
  {
   "cell_type": "code",
   "execution_count": 41,
   "metadata": {},
   "outputs": [],
   "source": [
    "df_monthly = (calls_per_month\n",
    "              .merge(messages_per_month, how='outer', on=['user_id','month'])\n",
    "              .merge(sessions_per_month, how='outer', on=['user_id','month'])\n",
    "              .merge(user_plan, on='user_id')\n",
    "             )"
   ]
  },
  {
   "cell_type": "code",
   "execution_count": 42,
   "metadata": {},
   "outputs": [
    {
     "data": {
      "text/html": [
       "<div>\n",
       "<style scoped>\n",
       "    .dataframe tbody tr th:only-of-type {\n",
       "        vertical-align: middle;\n",
       "    }\n",
       "\n",
       "    .dataframe tbody tr th {\n",
       "        vertical-align: top;\n",
       "    }\n",
       "\n",
       "    .dataframe thead th {\n",
       "        text-align: right;\n",
       "    }\n",
       "</style>\n",
       "<table border=\"1\" class=\"dataframe\">\n",
       "  <thead>\n",
       "    <tr style=\"text-align: right;\">\n",
       "      <th></th>\n",
       "      <th>user_id</th>\n",
       "      <th>month</th>\n",
       "      <th>total_min_month</th>\n",
       "      <th>num_messages_month</th>\n",
       "      <th>mb_volume_month</th>\n",
       "      <th>gb_volume_month</th>\n",
       "      <th>plan</th>\n",
       "      <th>city</th>\n",
       "      <th>messages_included</th>\n",
       "      <th>mb_per_month_included</th>\n",
       "      <th>minutes_included</th>\n",
       "      <th>usd_monthly_pay</th>\n",
       "      <th>usd_per_gb</th>\n",
       "      <th>usd_per_message</th>\n",
       "      <th>usd_per_minute</th>\n",
       "      <th>plan_name</th>\n",
       "    </tr>\n",
       "  </thead>\n",
       "  <tbody>\n",
       "    <tr>\n",
       "      <th>0</th>\n",
       "      <td>1000</td>\n",
       "      <td>12</td>\n",
       "      <td>124.0</td>\n",
       "      <td>11.0</td>\n",
       "      <td>1901.47</td>\n",
       "      <td>2.0</td>\n",
       "      <td>ultimate</td>\n",
       "      <td>Atlanta-Sandy Springs-Roswell, GA MSA</td>\n",
       "      <td>1000</td>\n",
       "      <td>30720</td>\n",
       "      <td>3000</td>\n",
       "      <td>70</td>\n",
       "      <td>7</td>\n",
       "      <td>0.01</td>\n",
       "      <td>0.01</td>\n",
       "      <td>ultimate</td>\n",
       "    </tr>\n",
       "    <tr>\n",
       "      <th>1</th>\n",
       "      <td>1001</td>\n",
       "      <td>8</td>\n",
       "      <td>182.0</td>\n",
       "      <td>30.0</td>\n",
       "      <td>6919.15</td>\n",
       "      <td>7.0</td>\n",
       "      <td>surf</td>\n",
       "      <td>Seattle-Tacoma-Bellevue, WA MSA</td>\n",
       "      <td>50</td>\n",
       "      <td>15360</td>\n",
       "      <td>500</td>\n",
       "      <td>20</td>\n",
       "      <td>10</td>\n",
       "      <td>0.03</td>\n",
       "      <td>0.03</td>\n",
       "      <td>surf</td>\n",
       "    </tr>\n",
       "    <tr>\n",
       "      <th>2</th>\n",
       "      <td>1001</td>\n",
       "      <td>9</td>\n",
       "      <td>315.0</td>\n",
       "      <td>44.0</td>\n",
       "      <td>13314.82</td>\n",
       "      <td>14.0</td>\n",
       "      <td>surf</td>\n",
       "      <td>Seattle-Tacoma-Bellevue, WA MSA</td>\n",
       "      <td>50</td>\n",
       "      <td>15360</td>\n",
       "      <td>500</td>\n",
       "      <td>20</td>\n",
       "      <td>10</td>\n",
       "      <td>0.03</td>\n",
       "      <td>0.03</td>\n",
       "      <td>surf</td>\n",
       "    </tr>\n",
       "    <tr>\n",
       "      <th>3</th>\n",
       "      <td>1001</td>\n",
       "      <td>10</td>\n",
       "      <td>393.0</td>\n",
       "      <td>53.0</td>\n",
       "      <td>22330.49</td>\n",
       "      <td>23.0</td>\n",
       "      <td>surf</td>\n",
       "      <td>Seattle-Tacoma-Bellevue, WA MSA</td>\n",
       "      <td>50</td>\n",
       "      <td>15360</td>\n",
       "      <td>500</td>\n",
       "      <td>20</td>\n",
       "      <td>10</td>\n",
       "      <td>0.03</td>\n",
       "      <td>0.03</td>\n",
       "      <td>surf</td>\n",
       "    </tr>\n",
       "    <tr>\n",
       "      <th>4</th>\n",
       "      <td>1001</td>\n",
       "      <td>11</td>\n",
       "      <td>426.0</td>\n",
       "      <td>36.0</td>\n",
       "      <td>18504.30</td>\n",
       "      <td>19.0</td>\n",
       "      <td>surf</td>\n",
       "      <td>Seattle-Tacoma-Bellevue, WA MSA</td>\n",
       "      <td>50</td>\n",
       "      <td>15360</td>\n",
       "      <td>500</td>\n",
       "      <td>20</td>\n",
       "      <td>10</td>\n",
       "      <td>0.03</td>\n",
       "      <td>0.03</td>\n",
       "      <td>surf</td>\n",
       "    </tr>\n",
       "  </tbody>\n",
       "</table>\n",
       "</div>"
      ],
      "text/plain": [
       "   user_id  month  total_min_month  num_messages_month  mb_volume_month  \\\n",
       "0     1000     12            124.0                11.0          1901.47   \n",
       "1     1001      8            182.0                30.0          6919.15   \n",
       "2     1001      9            315.0                44.0         13314.82   \n",
       "3     1001     10            393.0                53.0         22330.49   \n",
       "4     1001     11            426.0                36.0         18504.30   \n",
       "\n",
       "   gb_volume_month      plan                                   city  \\\n",
       "0              2.0  ultimate  Atlanta-Sandy Springs-Roswell, GA MSA   \n",
       "1              7.0      surf        Seattle-Tacoma-Bellevue, WA MSA   \n",
       "2             14.0      surf        Seattle-Tacoma-Bellevue, WA MSA   \n",
       "3             23.0      surf        Seattle-Tacoma-Bellevue, WA MSA   \n",
       "4             19.0      surf        Seattle-Tacoma-Bellevue, WA MSA   \n",
       "\n",
       "   messages_included  mb_per_month_included  minutes_included  \\\n",
       "0               1000                  30720              3000   \n",
       "1                 50                  15360               500   \n",
       "2                 50                  15360               500   \n",
       "3                 50                  15360               500   \n",
       "4                 50                  15360               500   \n",
       "\n",
       "   usd_monthly_pay  usd_per_gb  usd_per_message  usd_per_minute plan_name  \n",
       "0               70           7             0.01            0.01  ultimate  \n",
       "1               20          10             0.03            0.03      surf  \n",
       "2               20          10             0.03            0.03      surf  \n",
       "3               20          10             0.03            0.03      surf  \n",
       "4               20          10             0.03            0.03      surf  "
      ]
     },
     "execution_count": 42,
     "metadata": {},
     "output_type": "execute_result"
    }
   ],
   "source": [
    "df_monthly.head()"
   ]
  },
  {
   "cell_type": "code",
   "execution_count": 43,
   "metadata": {},
   "outputs": [
    {
     "data": {
      "text/plain": [
       "user_id                    0\n",
       "month                      0\n",
       "total_min_month           35\n",
       "num_messages_month       487\n",
       "mb_volume_month           16\n",
       "gb_volume_month           16\n",
       "plan                       0\n",
       "city                       0\n",
       "messages_included          0\n",
       "mb_per_month_included      0\n",
       "minutes_included           0\n",
       "usd_monthly_pay            0\n",
       "usd_per_gb                 0\n",
       "usd_per_message            0\n",
       "usd_per_minute             0\n",
       "plan_name                  0\n",
       "dtype: int64"
      ]
     },
     "execution_count": 43,
     "metadata": {},
     "output_type": "execute_result"
    }
   ],
   "source": [
    "df_monthly.isnull().sum()"
   ]
  },
  {
   "cell_type": "markdown",
   "metadata": {},
   "source": [
    "We have a few null values for those users who only used 1 or 2 services - e.g. only messages and the internet but not calls and so on. We will thus replace these values with 0."
   ]
  },
  {
   "cell_type": "code",
   "execution_count": 44,
   "metadata": {},
   "outputs": [],
   "source": [
    "for col in ['total_min_month','num_messages_month','mb_volume_month','gb_volume_month']:\n",
    "    df_monthly[col] = df_monthly[col].fillna(0)"
   ]
  },
  {
   "cell_type": "markdown",
   "metadata": {},
   "source": [
    "Finally, let's calculate the monthly profit per user according to the below formula:"
   ]
  },
  {
   "cell_type": "code",
   "execution_count": 45,
   "metadata": {},
   "outputs": [],
   "source": [
    "df_monthly['monthly_profit'] = (((df_monthly['num_messages_month']-df_monthly['messages_included']) * df_monthly['usd_per_message'])\n",
    "                                        + ((df_monthly['total_min_month']-df_monthly['minutes_included']) * df_monthly['usd_per_minute'])\n",
    "                                        + ((df_monthly['gb_volume_month']-np.ceil(df_monthly['mb_per_month_included'].values/1000)) * df_monthly['usd_per_gb'])\n",
    "                                        + df_monthly['usd_monthly_pay'])\n"
   ]
  },
  {
   "cell_type": "markdown",
   "metadata": {},
   "source": [
    "We will now group the table per plan and per month and visualize the results."
   ]
  },
  {
   "cell_type": "code",
   "execution_count": 46,
   "metadata": {},
   "outputs": [],
   "source": [
    "total_profit_month_plan = df_monthly.groupby(['plan','month'])['monthly_profit'].sum().reset_index()"
   ]
  },
  {
   "cell_type": "code",
   "execution_count": 47,
   "metadata": {},
   "outputs": [
    {
     "data": {
      "image/png": "[encoded data removed]",
      "text/plain": [
       "<Figure size 432x288 with 1 Axes>"
      ]
     },
     "metadata": {
      "needs_background": "light"
     },
     "output_type": "display_data"
    }
   ],
   "source": [
    "total_profit_month_plan[total_profit_month_plan['plan'] == 'surf'].plot(y='monthly_profit', x='month', kind='bar')\n",
    "plt.title('Total monthly profit for the \"Surf\" plan');"
   ]
  },
  {
   "cell_type": "code",
   "execution_count": 48,
   "metadata": {},
   "outputs": [
    {
     "data": {
      "image/png": "[encoded data removed]",
      "text/plain": [
       "<Figure size 432x288 with 1 Axes>"
      ]
     },
     "metadata": {
      "needs_background": "light"
     },
     "output_type": "display_data"
    }
   ],
   "source": [
    "total_profit_month_plan[total_profit_month_plan['plan'] == 'ultimate'].plot(y='monthly_profit', x='month', kind='bar')\n",
    "plt.title('Total monthly profit for the \"Ultimate\" plan');"
   ]
  },
  {
   "cell_type": "markdown",
   "metadata": {},
   "source": [
    "We see that the \"Surf\" plan is mostly profitable throughout the year with a tendency of being more and more profit-making towards the end of the year. In contract, the \"Ultimate\" plan is mostly not profitable during the year, with the opposite tendency of being even more costly by the end of the year. It could be explained by the fact that the \"Surf\" plan does not include as much free calls, messages and gigabytes as the \"Ultimate\" plan, so these users more often exceed the limits of the plan. However, the \"Ultimate\" plan seems to have too much free data as almost all its users are far from the limits by the end of a month. According to the above plots, the \"Ultimate\" plan conditions should be revised."
   ]
  },
  {
   "cell_type": "markdown",
   "metadata": {},
   "source": [
    "### EDA\n",
    "#### Distribution analysis\n",
    "Now we are going to further compare the two plans, so let's create separate data frames for them."
   ]
  },
  {
   "cell_type": "code",
   "execution_count": 49,
   "metadata": {},
   "outputs": [],
   "source": [
    "df_surf = df_monthly[df_monthly['plan'] == 'surf']\n",
    "df_ultimate = df_monthly[df_monthly['plan'] == 'ultimate']"
   ]
  },
  {
   "cell_type": "code",
   "execution_count": 50,
   "metadata": {},
   "outputs": [
    {
     "data": {
      "text/plain": [
       "(720, 17)"
      ]
     },
     "execution_count": 50,
     "metadata": {},
     "output_type": "execute_result"
    }
   ],
   "source": [
    "df_ultimate.shape"
   ]
  },
  {
   "cell_type": "code",
   "execution_count": 51,
   "metadata": {},
   "outputs": [
    {
     "data": {
      "text/plain": [
       "(1573, 17)"
      ]
     },
     "execution_count": 51,
     "metadata": {},
     "output_type": "execute_result"
    }
   ],
   "source": [
    "df_surf.shape"
   ]
  },
  {
   "cell_type": "markdown",
   "metadata": {},
   "source": [
    "##### Calls"
   ]
  },
  {
   "cell_type": "code",
   "execution_count": 52,
   "metadata": {},
   "outputs": [
    {
     "data": {
      "image/png": "[encoded data removed]",
      "text/plain": [
       "<Figure size 432x288 with 1 Axes>"
      ]
     },
     "metadata": {
      "needs_background": "light"
     },
     "output_type": "display_data"
    }
   ],
   "source": [
    "df_surf.hist('total_min_month')\n",
    "plt.title('Monthly calls length, in minutes')\n",
    "plt.suptitle('Plan \"Surf\"')\n",
    "plt.xlabel('minutes')\n",
    "plt.ylabel('frequency');"
   ]
  },
  {
   "cell_type": "code",
   "execution_count": 53,
   "metadata": {},
   "outputs": [
    {
     "name": "stdout",
     "output_type": "stream",
     "text": [
      "Average monthly calls length in minutes, plan \"Surf\": 429\n",
      "Medium monthly calls length in minutes, plan \"Surf\":425\n",
      "Standard deviation for monthly calls length in minutes, plan \"Surf\":234\n"
     ]
    }
   ],
   "source": [
    "print('Average monthly calls length in minutes, plan \"Surf\": {:.0f}'.format(df_surf['total_min_month'].mean()))\n",
    "print('Medium monthly calls length in minutes, plan \"Surf\":{:.0f}'.format(df_surf['total_min_month'].median()))\n",
    "print('Standard deviation for monthly calls length in minutes, plan \"Surf\":{:.0f}'.format(df_surf['total_min_month'].std()))"
   ]
  },
  {
   "cell_type": "code",
   "execution_count": 54,
   "metadata": {},
   "outputs": [
    {
     "data": {
      "image/png": "[encoded data removed]",
      "text/plain": [
       "<Figure size 432x288 with 1 Axes>"
      ]
     },
     "metadata": {
      "needs_background": "light"
     },
     "output_type": "display_data"
    }
   ],
   "source": [
    "df_ultimate.hist('total_min_month')\n",
    "plt.title('Monthly calls length, in minutes')\n",
    "plt.suptitle('Plan \"Ultimate\"')\n",
    "plt.xlabel('minutes')\n",
    "plt.ylabel('frequency');"
   ]
  },
  {
   "cell_type": "code",
   "execution_count": 55,
   "metadata": {},
   "outputs": [
    {
     "name": "stdout",
     "output_type": "stream",
     "text": [
      "Average monthly calls length in minutes, plan \"Ultimate\": 430\n",
      "Medium monthly calls length in minutes, plan \"Ultimate\":424\n",
      "Standard deviation for monthly calls length in minutes, plan \"Ultimate\":241\n"
     ]
    }
   ],
   "source": [
    "print('Average monthly calls length in minutes, plan \"Ultimate\": {:.0f}'.format(df_ultimate['total_min_month'].mean()))\n",
    "print('Medium monthly calls length in minutes, plan \"Ultimate\":{:.0f}'.format(df_ultimate['total_min_month'].median()))\n",
    "print('Standard deviation for monthly calls length in minutes, plan \"Ultimate\":{:.0f}'.format(df_ultimate['total_min_month'].std()))"
   ]
  },
  {
   "cell_type": "markdown",
   "metadata": {},
   "source": [
    "Average and medium monthly calls length is almost the same (around 430-440 minutes per month) for both plans, which is a sign of a distribution close to normal, without any heavy tails. Standard deviations are also quite close (around 230-240 minutes)."
   ]
  },
  {
   "cell_type": "code",
   "execution_count": 56,
   "metadata": {},
   "outputs": [
    {
     "name": "stdout",
     "output_type": "stream",
     "text": [
      "People exceeded the \"Surf\" plan limit for calls: 566\n",
      "Ratio of people exceeded the \"Surf\" plan limit for calls: 36%\n"
     ]
    }
   ],
   "source": [
    "print('People exceeded the \"Surf\" plan limit for calls: {:.0f}'.format(len(df_surf.query('total_min_month > 500'))))\n",
    "print('Ratio of people exceeded the \"Surf\" plan limit for calls: {:.0%}'.format(len(df_surf.query('total_min_month > 500')) / len(df_surf)))"
   ]
  },
  {
   "cell_type": "markdown",
   "metadata": {},
   "source": [
    "The \"Surf\" plan limit is 500 minutes per month. This value is close to the mean and median, so most users stay within this limit while others - 566 people (36%) which is almost a half! - exceed it. Those who exceed the limit create profit for the company. The \"Ultimate\" plan limit is 3000 minutes per month. No user is spending that many minutes - the highest number is even less than 1400 minutes per month. This is where the company looses much profit, so this limit must be reviewed."
   ]
  },
  {
   "cell_type": "markdown",
   "metadata": {},
   "source": [
    "##### Messages"
   ]
  },
  {
   "cell_type": "code",
   "execution_count": 57,
   "metadata": {},
   "outputs": [
    {
     "data": {
      "image/png": "[encoded data removed]",
      "text/plain": [
       "<Figure size 432x288 with 1 Axes>"
      ]
     },
     "metadata": {
      "needs_background": "light"
     },
     "output_type": "display_data"
    }
   ],
   "source": [
    "df_surf.hist('num_messages_month')\n",
    "plt.title('Monthly number of messages')\n",
    "plt.suptitle('Plan \"Surf\"')\n",
    "plt.xlabel('number of messages')\n",
    "plt.ylabel('frequency');"
   ]
  },
  {
   "cell_type": "code",
   "execution_count": 58,
   "metadata": {},
   "outputs": [
    {
     "name": "stdout",
     "output_type": "stream",
     "text": [
      "Average monthly number of messages, plan \"Surf\": 31\n",
      "Medium monthly number of messages, plan \"Surf\":24\n",
      "Standard deviation for monthly number of messages, plan \"Surf\":34\n"
     ]
    }
   ],
   "source": [
    "print('Average monthly number of messages, plan \"Surf\": {:.0f}'.format(df_surf['num_messages_month'].mean()))\n",
    "print('Medium monthly number of messages, plan \"Surf\":{:.0f}'.format(df_surf['num_messages_month'].median()))\n",
    "print('Standard deviation for monthly number of messages, plan \"Surf\":{:.0f}'.format(df_surf['num_messages_month'].std()))"
   ]
  },
  {
   "cell_type": "code",
   "execution_count": 59,
   "metadata": {},
   "outputs": [
    {
     "data": {
      "image/png": "[encoded data removed]",
      "text/plain": [
       "<Figure size 432x288 with 1 Axes>"
      ]
     },
     "metadata": {
      "needs_background": "light"
     },
     "output_type": "display_data"
    }
   ],
   "source": [
    "df_ultimate.hist('num_messages_month')\n",
    "plt.title('Monthly number of messages')\n",
    "plt.suptitle('Plan \"Ultimate\"')\n",
    "plt.xlabel('number of messages')\n",
    "plt.ylabel('frequency');"
   ]
  },
  {
   "cell_type": "code",
   "execution_count": 60,
   "metadata": {},
   "outputs": [
    {
     "name": "stdout",
     "output_type": "stream",
     "text": [
      "Average monthly number of messages, plan \"Ultimate\": 38\n",
      "Medium monthly number of messages, plan \"Ultimate\":30\n",
      "Standard deviation for monthly number of messages, plan \"Ultimate\":35\n"
     ]
    }
   ],
   "source": [
    "print('Average monthly number of messages, plan \"Ultimate\": {:.0f}'.format(df_ultimate['num_messages_month'].mean()))\n",
    "print('Medium monthly number of messages, plan \"Ultimate\":{:.0f}'.format(df_ultimate['num_messages_month'].median()))\n",
    "print('Standard deviation for monthly number of messages, plan \"Ultimate\":{:.0f}'.format(df_ultimate['num_messages_month'].std()))"
   ]
  },
  {
   "cell_type": "markdown",
   "metadata": {},
   "source": [
    "Both plans show the same picture: these distributions are positively skewed, standard deviation is quite large, almost the same as the mean. There are slightly - around 10 messages per month - less in the \"Surf\" plan which is only logical as users of this plan have a lower limit, so they are probably trying to stay inside the boundaries by sending less messages."
   ]
  },
  {
   "cell_type": "code",
   "execution_count": 61,
   "metadata": {},
   "outputs": [
    {
     "name": "stdout",
     "output_type": "stream",
     "text": [
      "People exceeded the \"Surf\" plan limit for messages: 340\n",
      "Ratio of people exceeded the \"Surf\" plan limit for messages: 22%\n"
     ]
    }
   ],
   "source": [
    "print('People exceeded the \"Surf\" plan limit for messages: {:.0f}'.format(len(df_surf.query('num_messages_month > 50'))))\n",
    "print('Ratio of people exceeded the \"Surf\" plan limit for messages: {:.0%}'.format(len(df_surf.query('num_messages_month > 50')) / len(df_surf)))"
   ]
  },
  {
   "cell_type": "markdown",
   "metadata": {},
   "source": [
    "The \"Surf\" plan limit is 50 messages per month. Most users stay within this limit while others - 340 people (22%) - exceed it. Those who exceed the limit create profit for the company. The \"Ultimate\" plan limit is 1000 messages per month. No user is sending that many texts - the highest number is only 150 messages per month. This is where the company looses much profit, so this limit must be reviewed."
   ]
  },
  {
   "cell_type": "markdown",
   "metadata": {},
   "source": [
    "##### Internet"
   ]
  },
  {
   "cell_type": "code",
   "execution_count": 62,
   "metadata": {},
   "outputs": [
    {
     "data": {
      "image/png": "[encoded data removed]",
      "text/plain": [
       "<Figure size 432x288 with 1 Axes>"
      ]
     },
     "metadata": {
      "needs_background": "light"
     },
     "output_type": "display_data"
    }
   ],
   "source": [
    "df_surf.hist('gb_volume_month')\n",
    "plt.title('Monthly web traffic')\n",
    "plt.suptitle('Plan \"Surf\"')\n",
    "plt.xlabel('gigabytes of data')\n",
    "plt.ylabel('frequency');"
   ]
  },
  {
   "cell_type": "code",
   "execution_count": 63,
   "metadata": {},
   "outputs": [
    {
     "name": "stdout",
     "output_type": "stream",
     "text": [
      "Average monthly volume of data, plan \"Surf\": 17\n",
      "Medium monthly volume of data, plan \"Surf\":17\n",
      "Standard deviation for monthly volume of data, plan \"Surf\":8\n"
     ]
    }
   ],
   "source": [
    "print('Average monthly volume of data, plan \"Surf\": {:.0f}'.format(df_surf['gb_volume_month'].mean()))\n",
    "print('Medium monthly volume of data, plan \"Surf\":{:.0f}'.format(df_surf['gb_volume_month'].median()))\n",
    "print('Standard deviation for monthly volume of data, plan \"Surf\":{:.0f}'.format(df_surf['gb_volume_month'].std()))"
   ]
  },
  {
   "cell_type": "code",
   "execution_count": 64,
   "metadata": {},
   "outputs": [
    {
     "data": {
      "image/png": "[encoded data removed]",
      "text/plain": [
       "<Figure size 432x288 with 1 Axes>"
      ]
     },
     "metadata": {
      "needs_background": "light"
     },
     "output_type": "display_data"
    }
   ],
   "source": [
    "df_ultimate.hist('gb_volume_month')\n",
    "plt.title('Monthly web traffic')\n",
    "plt.suptitle('Plan \"Ultimate\"')\n",
    "plt.xlabel('gigabytes of data')\n",
    "plt.ylabel('frequency');"
   ]
  },
  {
   "cell_type": "code",
   "execution_count": 65,
   "metadata": {},
   "outputs": [
    {
     "name": "stdout",
     "output_type": "stream",
     "text": [
      "Average monthly volume of data, plan \"Ultimate\": 18\n",
      "Medium monthly volume of data, plan \"Ultimate\":17\n",
      "Standard deviation for monthly volume of data, plan \"Ultimate\":8\n"
     ]
    }
   ],
   "source": [
    "print('Average monthly volume of data, plan \"Ultimate\": {:.0f}'.format(df_ultimate['gb_volume_month'].mean()))\n",
    "print('Medium monthly volume of data, plan \"Ultimate\":{:.0f}'.format(df_ultimate['gb_volume_month'].median()))\n",
    "print('Standard deviation for monthly volume of data, plan \"Ultimate\":{:.0f}'.format(df_ultimate['gb_volume_month'].std()))"
   ]
  },
  {
   "cell_type": "markdown",
   "metadata": {},
   "source": [
    "The distributions of both plans are very similar: measures of location and dispersion are almost identical. The mean and median are very close (around 17-18 gb per month) which is a sign of a distribution close to normal. Standard deviation is not so large either - 8 gb. The number of observations with a mean/median volume is more than twice as large as the rest of values, that's why the picks of both histograms are so distinctive. "
   ]
  },
  {
   "cell_type": "code",
   "execution_count": 66,
   "metadata": {},
   "outputs": [
    {
     "name": "stdout",
     "output_type": "stream",
     "text": [
      "People exceeded the \"Surf\" plan limit for web traffic: 858\n",
      "Ratio of people exceeded the \"Surf\" plan limit for web traffic: 55%\n"
     ]
    }
   ],
   "source": [
    "print('People exceeded the \"Surf\" plan limit for web traffic: {:.0f}'.format(len(df_surf.query('gb_volume_month > 16'))))\n",
    "print('Ratio of people exceeded the \"Surf\" plan limit for web traffic: {:.0%}'.format(len(df_surf.query('gb_volume_month > 16')) / len(df_surf)))"
   ]
  },
  {
   "cell_type": "code",
   "execution_count": 67,
   "metadata": {},
   "outputs": [
    {
     "name": "stdout",
     "output_type": "stream",
     "text": [
      "People exceeded the \"Ultimate\" plan limit for web traffic: 39\n",
      "Ratio of people exceeded the \"Ultimate\" plan limit for web traffic: 2%\n"
     ]
    }
   ],
   "source": [
    "print('People exceeded the \"Ultimate\" plan limit for web traffic: {:.0f}'.format(len(df_ultimate.query('gb_volume_month > 31'))))\n",
    "print('Ratio of people exceeded the \"Ultimate\" plan limit for web traffic: {:.0%}'.format(len(df_ultimate.query('gb_volume_month > 31')) / len(df_surf)))"
   ]
  },
  {
   "cell_type": "markdown",
   "metadata": {},
   "source": [
    "The \"Surf\" plan's data limit is 16 gb which is slightly less than the average usage. Almost a half of users stay within this limit while others - 858 people (55%) - exceed it. Those who exceed the limit create profit for the company. As the number of people who exceed the limit is significant, profit from the internet source is probably the biggest among other sources for this plan. \n",
    "\n",
    "The \"Ultimate\" plan's data limit is 31 bg. There are only 39 people (2%) who exceeded this number, hence the data limit for this plan should be reconsidered."
   ]
  },
  {
   "cell_type": "markdown",
   "metadata": {},
   "source": [
    "#### Outliers\n",
    "##### Calls"
   ]
  },
  {
   "cell_type": "code",
   "execution_count": 68,
   "metadata": {},
   "outputs": [
    {
     "data": {
      "image/png": "[encoded data removed]",
      "text/plain": [
       "<Figure size 432x288 with 1 Axes>"
      ]
     },
     "metadata": {
      "needs_background": "light"
     },
     "output_type": "display_data"
    }
   ],
   "source": [
    "df_surf.boxplot('total_min_month');"
   ]
  },
  {
   "cell_type": "code",
   "execution_count": 69,
   "metadata": {},
   "outputs": [
    {
     "data": {
      "image/png": "[encoded data removed]",
      "text/plain": [
       "<Figure size 432x288 with 1 Axes>"
      ]
     },
     "metadata": {
      "needs_background": "light"
     },
     "output_type": "display_data"
    }
   ],
   "source": [
    "df_ultimate.boxplot('total_min_month');"
   ]
  },
  {
   "cell_type": "markdown",
   "metadata": {},
   "source": [
    "##### Messages"
   ]
  },
  {
   "cell_type": "code",
   "execution_count": 70,
   "metadata": {},
   "outputs": [
    {
     "data": {
      "image/png": "[encoded data removed]",
      "text/plain": [
       "<Figure size 432x288 with 1 Axes>"
      ]
     },
     "metadata": {
      "needs_background": "light"
     },
     "output_type": "display_data"
    }
   ],
   "source": [
    "df_surf.boxplot('num_messages_month');"
   ]
  },
  {
   "cell_type": "code",
   "execution_count": 71,
   "metadata": {},
   "outputs": [
    {
     "data": {
      "image/png": "[encoded data removed]",
      "text/plain": [
       "<Figure size 432x288 with 1 Axes>"
      ]
     },
     "metadata": {
      "needs_background": "light"
     },
     "output_type": "display_data"
    }
   ],
   "source": [
    "df_ultimate.boxplot('num_messages_month');"
   ]
  },
  {
   "cell_type": "markdown",
   "metadata": {},
   "source": [
    "##### Internet"
   ]
  },
  {
   "cell_type": "code",
   "execution_count": 72,
   "metadata": {},
   "outputs": [
    {
     "data": {
      "image/png": "[encoded data removed]",
      "text/plain": [
       "<Figure size 432x288 with 1 Axes>"
      ]
     },
     "metadata": {
      "needs_background": "light"
     },
     "output_type": "display_data"
    }
   ],
   "source": [
    "df_surf.boxplot('gb_volume_month');"
   ]
  },
  {
   "cell_type": "code",
   "execution_count": 73,
   "metadata": {},
   "outputs": [
    {
     "data": {
      "image/png": "[encoded data removed]",
      "text/plain": [
       "<Figure size 432x288 with 1 Axes>"
      ]
     },
     "metadata": {
      "needs_background": "light"
     },
     "output_type": "display_data"
    }
   ],
   "source": [
    "df_ultimate.boxplot('gb_volume_month');"
   ]
  },
  {
   "cell_type": "markdown",
   "metadata": {},
   "source": [
    "According to the above boxplots, we see that distributions for both plans and for both `total_min_month` and `gb_volume_month` variables are close to normal, whereas it is positively skewed for the `num_messages_month` variable. However we only see outliers above the upper whisker for all 3 variables and both plans. We will hence apply the Interquartile range method in order to remove them."
   ]
  },
  {
   "cell_type": "markdown",
   "metadata": {},
   "source": [
    "##### Outliers removal\n",
    "\n",
    "First, let's calculate the upper whisker for each plan and for each variable."
   ]
  },
  {
   "cell_type": "code",
   "execution_count": 74,
   "metadata": {},
   "outputs": [
    {
     "name": "stdout",
     "output_type": "stream",
     "text": [
      "\n",
      "Surf\n",
      "total_min_month 1032.0\n",
      "gb_volume_month 34.5\n",
      "num_messages_month 113.0\n",
      "\n",
      "Ultimate\n",
      "total_min_month 1023.125\n",
      "gb_volume_month 35.5\n",
      "num_messages_month 142.0\n"
     ]
    }
   ],
   "source": [
    "df_surf.name = \"Surf\"\n",
    "df_ultimate.name = \"Ultimate\"\n",
    "for df in [df_surf,df_ultimate]:\n",
    "    print()\n",
    "    print(df.name)\n",
    "    for feature in ['total_min_month','gb_volume_month','num_messages_month']:\n",
    "        df[feature] = df[feature].astype(int)\n",
    "        q25 = df[feature].quantile(0.25)\n",
    "        q75 = df[feature].quantile(0.75)\n",
    "        iqr = q75 - q25\n",
    "        # calculate the outlier cutoff and upper limit\n",
    "        cut_off = iqr * 1.5\n",
    "        upper = q75 + cut_off\n",
    "        print(feature, upper)"
   ]
  },
  {
   "cell_type": "markdown",
   "metadata": {},
   "source": [
    "Next, we will only keep those rows for which each variable is under the upper limit."
   ]
  },
  {
   "cell_type": "code",
   "execution_count": 75,
   "metadata": {},
   "outputs": [
    {
     "data": {
      "text/plain": [
       "(1471, 17)"
      ]
     },
     "execution_count": 75,
     "metadata": {},
     "output_type": "execute_result"
    }
   ],
   "source": [
    "df_surf = df_surf[(df_surf['total_min_month']<1032.0) & (df_surf['gb_volume_month']<34.5) & (df_surf['num_messages_month']<113.0)]\n",
    "df_surf.shape"
   ]
  },
  {
   "cell_type": "code",
   "execution_count": 76,
   "metadata": {},
   "outputs": [
    {
     "data": {
      "text/plain": [
       "(671, 17)"
      ]
     },
     "execution_count": 76,
     "metadata": {},
     "output_type": "execute_result"
    }
   ],
   "source": [
    "df_ultimate = df_ultimate[(df_ultimate['total_min_month']<1023.125) & (df_ultimate['gb_volume_month']<35.5) & (df_ultimate['num_messages_month']<142.0)]\n",
    "df_ultimate.shape"
   ]
  },
  {
   "cell_type": "markdown",
   "metadata": {},
   "source": [
    "### Statistical hypotheses testing\n",
    "#### The average profit from users of Ultimate and Surf plans differs: bilateral hypothesis"
   ]
  },
  {
   "cell_type": "markdown",
   "metadata": {},
   "source": [
    "##### Step 1: the null and alternative hypotheses\n",
    "**H0:** The means of two statistical populations are equal. In our case it means that the average profit from users of \"Surf\" and \"Ultimate\" plans is the same.\n",
    "\n",
    "**H1:** The means of two statistical populations are not equal. In our case it means that the average profit from users of \"Surf\" and \"Ultimate\" plans differs, although we do not specify here which one is more."
   ]
  },
  {
   "cell_type": "markdown",
   "metadata": {},
   "source": [
    "##### Step 2: Set the criteria for a decision\n",
    "\n",
    "In behavioral science, the level of significance is typically set at 5% and we will choose this criteria as well. When the probability of obtaining a sample mean is less than 5% if the null hypothesis were true, then we reject the value stated in the null hypothesis."
   ]
  },
  {
   "cell_type": "markdown",
   "metadata": {},
   "source": [
    "##### Step 3: Compute the test statistic\n",
    "\n",
    "In order to test our hypothesis that the means of two statistical populations are equal based on samples taken from them, we will apply the method `scipy.stats.ttest_ind()`. \n",
    "\n",
    "The method takes the following parameters: \n",
    "\n",
    "- `array1`, `array2` are arrays containing the samples. We will use the `monthly_profit` variables we calculated earlier for both plans;\n",
    "- `equal_var` is an optional parameter that specifies whether or not the variances of the populations should be considered equal. To set this parameter let's test whether the variances of our samples are the same."
   ]
  },
  {
   "cell_type": "code",
   "execution_count": 77,
   "metadata": {},
   "outputs": [],
   "source": [
    "sample_1 = df_surf['monthly_profit']\n",
    "sample_2 = df_ultimate['monthly_profit']"
   ]
  },
  {
   "cell_type": "code",
   "execution_count": 78,
   "metadata": {},
   "outputs": [
    {
     "data": {
      "text/plain": [
       "LeveneResult(statistic=98.0356634273378, pvalue=1.24925160887314e-22)"
      ]
     },
     "execution_count": 78,
     "metadata": {},
     "output_type": "execute_result"
    }
   ],
   "source": [
    "st.levene(sample_1, sample_2)"
   ]
  },
  {
   "cell_type": "markdown",
   "metadata": {},
   "source": [
    "The small p-value suggests that the populations do not have equal variances. Hence we will set the `equal_var` parameter to False."
   ]
  },
  {
   "cell_type": "code",
   "execution_count": 79,
   "metadata": {},
   "outputs": [
    {
     "name": "stdout",
     "output_type": "stream",
     "text": [
      "p-value:  6.754263687330053e-181\n",
      "We reject the null hypothesis\n"
     ]
    }
   ],
   "source": [
    "alpha = .05 # critical statistical significance level\n",
    "                        # if the p-value is less than alpha, we reject the hypothesis\n",
    "\n",
    "results = st.ttest_ind(\n",
    "                        sample_1, \n",
    "                        sample_2, \n",
    "                        equal_var=False)\n",
    "\n",
    "print('p-value: ', results.pvalue)\n",
    "\n",
    "if (results.pvalue < alpha):\n",
    "        print(\"We reject the null hypothesis\")\n",
    "else:\n",
    "        print(\"We retain the null hypothesis\")"
   ]
  },
  {
   "cell_type": "markdown",
   "metadata": {},
   "source": [
    "##### Step 4: Make a decision\n",
    "\n",
    "Based on the results of the test statistic we reach **significance**: the decision is to **reject the null hypothesis**. The equality of samples' means is associated with a low probability of occurrence (much less than 1%) when the null hypothesis is true.\n",
    "\n",
    "Now let's see if this decision stands if we reformulate the alternative hypothesis, so it becomes unilateral."
   ]
  },
  {
   "cell_type": "markdown",
   "metadata": {},
   "source": [
    "#### The average profit from users of Ultimate and Surf plans differs: unilateral hypothesis\n",
    "##### The \"Surf\" plan's average profit is greater than the \"Ultimate\" plan's average profit\n",
    "###### Step 1: the null and alternative hypotheses\n",
    "**H0:** The means of two statistical populations are equal. In our case it means that the average profit from users of \"Surf\" and \"Ultimate\" plans is the same.\n",
    "\n",
    "**H1:** One of the means of two statistical populations is greater than the other. In our case it means that the average profit from users of the \"Surf\" plan is greater than that of the \"Ultimate\" plan."
   ]
  },
  {
   "cell_type": "markdown",
   "metadata": {},
   "source": [
    "###### Step 2: Set the criteria for a decision\n",
    "\n",
    "We will keep the level of significance at 5% for this test as well."
   ]
  },
  {
   "cell_type": "markdown",
   "metadata": {},
   "source": [
    "###### Step 3: Compute the test statistic\n",
    "\n",
    "In order to test our new hypothesis we will also apply the method `scipy.stats.ttest_ind()`. \n",
    "The first 3 parameters stay the same and we will add one more for unilateral hypotheses:\n",
    "- `alternative` is an optional parameter that defines the alternative hypothesis. The following options are available (default is ‘two-sided’). In this section we will set it to 'greater' for our purposes."
   ]
  },
  {
   "cell_type": "code",
   "execution_count": 80,
   "metadata": {},
   "outputs": [
    {
     "name": "stdout",
     "output_type": "stream",
     "text": [
      "p-value:  3.3771318436650265e-181\n",
      "We reject the null hypothesis\n"
     ]
    }
   ],
   "source": [
    "alpha = .05 # critical statistical significance level\n",
    "                        # if the p-value is less than alpha, we reject the hypothesis\n",
    "\n",
    "results = st.ttest_ind(\n",
    "                        sample_1, \n",
    "                        sample_2,\n",
    "                        equal_var=False,\n",
    "                        alternative='greater')\n",
    "\n",
    "print('p-value: ', results.pvalue)\n",
    "\n",
    "if (results.pvalue < alpha):\n",
    "        print(\"We reject the null hypothesis\")\n",
    "else:\n",
    "        print(\"We retain the null hypothesis\")"
   ]
  },
  {
   "cell_type": "markdown",
   "metadata": {},
   "source": [
    "###### Step 4: Make a decision\n",
    "\n",
    "Based on the results of the test statistic we reach **significance**: the decision is to **reject the null hypothesis**. The equality of samples' means is associated with a low probability of occurrence (much less than 1%) when the null hypothesis is true.\n",
    "\n",
    "Now let's see what results we would get if we changed again the alternative hypothesis."
   ]
  },
  {
   "cell_type": "markdown",
   "metadata": {},
   "source": [
    "#### The average profit from users of Ultimate and Surf plans differs: unilateral hypothesis\n",
    "##### The \"Surf\" plan's average profit is less than the \"Ultimate\" plan's average profit\n",
    "###### Step 1: the null and alternative hypotheses\n",
    "**H0:** The means of two statistical populations are equal. In our case it means that the average profit from users of \"Surf\" and \"Ultimate\" plans is the same.\n",
    "\n",
    "**H1:** One of the means of two statistical populations is less than the other. In our case it means that the average profit from users of the \"Surf\" plan is less than that of the \"Ultimate\" plan."
   ]
  },
  {
   "cell_type": "markdown",
   "metadata": {},
   "source": [
    "###### Step 2: Set the criteria for a decision\n",
    "\n",
    "We will keep the level of significance at 5% for this test as well.\n",
    "\n",
    "###### Step 3: Compute the test statistic\n",
    "\n",
    "In order to test our new hypothesis we will also apply the method `scipy.stats.ttest_ind()`. \n",
    "The first 3 parameters stay the same and we will add one more for unilateral hypotheses:\n",
    "- `alternative` is an optional parameter that defines the alternative hypothesis. The following options are available (default is ‘two-sided’). In this section we will set it to 'less' for our purposes."
   ]
  },
  {
   "cell_type": "code",
   "execution_count": 81,
   "metadata": {},
   "outputs": [
    {
     "name": "stdout",
     "output_type": "stream",
     "text": [
      "p-value:  1.0\n",
      "We retain the null hypothesis\n"
     ]
    }
   ],
   "source": [
    "alpha = .05 # critical statistical significance level\n",
    "                        # if the p-value is less than alpha, we reject the hypothesis\n",
    "\n",
    "results = st.ttest_ind(\n",
    "                        sample_1, \n",
    "                        sample_2,\n",
    "                        equal_var=False,\n",
    "                        alternative='less')\n",
    "\n",
    "print('p-value: ', results.pvalue)\n",
    "\n",
    "if (results.pvalue < alpha):\n",
    "        print(\"We reject the null hypothesis\")\n",
    "else:\n",
    "        print(\"We retain the null hypothesis\")"
   ]
  },
  {
   "cell_type": "markdown",
   "metadata": {},
   "source": [
    "###### Step 4: Make a decision\n",
    "\n",
    "Based on the results of the test statistic we **failed to reach significance**: the decision is to **retain the null hypothesis**. The equality of samples' means against such an alternative hypothesis is associated with a 100% probability of occurrence when the null hypothesis is true.\n",
    "\n",
    "This decision is probably an example of a Type II error. With each test we make, there is always some probability that the decision could be a Type II error. In this decision, we decide to retain previous notions of truth that are in fact false (based on previous analysis). While it’s an error, we still did nothing; we retained the null hypothesis. We can always go back and conduct more studies."
   ]
  },
  {
   "cell_type": "markdown",
   "metadata": {},
   "source": [
    "#### The average profit from users in NY-NJ area is different from that of the users from other regions: bilateral hypothesis\n",
    "\n",
    "First, let's from two populations according to the task."
   ]
  },
  {
   "cell_type": "code",
   "execution_count": 82,
   "metadata": {},
   "outputs": [],
   "source": [
    "ny_nj_users = df_monthly[df_monthly['city'] == 'New York-Newark-Jersey City, NY-NJ-PA MSA']"
   ]
  },
  {
   "cell_type": "code",
   "execution_count": 83,
   "metadata": {},
   "outputs": [],
   "source": [
    "other_regions_users = df_monthly[df_monthly['city'] != 'New York-Newark-Jersey City, NY-NJ-PA MSA']"
   ]
  },
  {
   "cell_type": "code",
   "execution_count": 84,
   "metadata": {},
   "outputs": [
    {
     "data": {
      "text/plain": [
       "(1916, 17)"
      ]
     },
     "execution_count": 84,
     "metadata": {},
     "output_type": "execute_result"
    }
   ],
   "source": [
    "other_regions_users.shape"
   ]
  },
  {
   "cell_type": "code",
   "execution_count": 85,
   "metadata": {},
   "outputs": [
    {
     "data": {
      "text/plain": [
       "(377, 17)"
      ]
     },
     "execution_count": 85,
     "metadata": {},
     "output_type": "execute_result"
    }
   ],
   "source": [
    "ny_nj_users.shape"
   ]
  },
  {
   "cell_type": "markdown",
   "metadata": {},
   "source": [
    "##### Step 1: the null and alternative hypotheses\n",
    "**H0**: The means of two statistical populations are equal. In our case it means that the average profit from users in NY-NJ area and users in other regions is the same.\n",
    "\n",
    "**H1**: The means of two statistical populations are not equal. In our case it means that the average profit from users in NY-NJ area and users in other regions differs, although we do not specify here which one is more.\n",
    "\n",
    "##### Step 2: Set the criteria for a decision\n",
    "We will keep the level of significance at 5% for this test as well.\n",
    "\n",
    "##### Step 3: Compute the test statistic\n",
    "In order to test our new hypothesis we will again apply the method scipy.stats.ttest_ind() but first let's test whether variances of these two populations are similar."
   ]
  },
  {
   "cell_type": "code",
   "execution_count": 86,
   "metadata": {},
   "outputs": [
    {
     "data": {
      "text/plain": [
       "LeveneResult(statistic=6.608211517749522, pvalue=0.010213584069727624)"
      ]
     },
     "execution_count": 86,
     "metadata": {},
     "output_type": "execute_result"
    }
   ],
   "source": [
    "sample_3 = ny_nj_users['monthly_profit']\n",
    "sample_4 = other_regions_users['monthly_profit']\n",
    "\n",
    "st.levene(sample_3, sample_4)"
   ]
  },
  {
   "cell_type": "markdown",
   "metadata": {},
   "source": [
    "The small p-value (less that 5%) suggests that the populations do not have equal variances. Hence we will set the `equal_var` parameter to False."
   ]
  },
  {
   "cell_type": "code",
   "execution_count": 87,
   "metadata": {},
   "outputs": [
    {
     "name": "stdout",
     "output_type": "stream",
     "text": [
      "p-value:  0.0004452925660048938\n",
      "We reject the null hypothesis\n"
     ]
    }
   ],
   "source": [
    "alpha = .05 # critical statistical significance level\n",
    "                        # if the p-value is less than alpha, we reject the hypothesis\n",
    "\n",
    "results = st.ttest_ind(\n",
    "                        sample_3, \n",
    "                        sample_4, \n",
    "                        equal_var=False)\n",
    "\n",
    "print('p-value: ', results.pvalue)\n",
    "\n",
    "if (results.pvalue < alpha):\n",
    "        print(\"We reject the null hypothesis\")\n",
    "else:\n",
    "        print(\"We retain the null hypothesis\")"
   ]
  },
  {
   "cell_type": "markdown",
   "metadata": {},
   "source": [
    "##### Step 4: Make a decision\n",
    "\n",
    "Based on the results of the test statistic we reach **significance**: the decision is to **reject the null hypothesis**. The equality of samples' means is associated with a low probability of occurrence (much less than 1%) when the null hypothesis is true.\n",
    "\n",
    "Now let's see if this decision stands if we reformulate the alternative hypothesis, so it becomes unilateral."
   ]
  },
  {
   "cell_type": "markdown",
   "metadata": {},
   "source": [
    "#### The average profit from users of Ultimate and Surf plans differs: unilateral hypothesis\n",
    "##### The \"Surf\" plan's average profit is greater than the \"Ultimate\" plan's average profit\n",
    "###### Step 1: the null and alternative hypotheses\n",
    "**H0:** The means of two statistical populations are equal. In our case it means that the average profit from users in NY-NJ area and users in other regions is the same.\n",
    "\n",
    "**H1:** One of the means of two statistical populations is greater than the other. In our case it means that the average profit from users in NY-NJ area is greater than that of users in other areas."
   ]
  },
  {
   "cell_type": "markdown",
   "metadata": {},
   "source": [
    "###### Step 2: Set the criteria for a decision\n",
    "\n",
    "We will keep the level of significance at 5% for this test as well."
   ]
  },
  {
   "cell_type": "markdown",
   "metadata": {},
   "source": [
    "###### Step 3: Compute the test statistic\n",
    "\n",
    "In order to test our new hypothesis we will also apply the method `scipy.stats.ttest_ind()`. \n",
    "The first 3 parameters stay the same and we will add one more for unilateral hypotheses:\n",
    "- `alternative` is an optional parameter that defines the alternative hypothesis. The following options are available (default is ‘two-sided’). In this section we will set it to 'greater' for our purposes."
   ]
  },
  {
   "cell_type": "code",
   "execution_count": 88,
   "metadata": {},
   "outputs": [
    {
     "name": "stdout",
     "output_type": "stream",
     "text": [
      "p-value:  0.0002226462830024469\n",
      "We reject the null hypothesis\n"
     ]
    }
   ],
   "source": [
    "alpha = .05 # critical statistical significance level\n",
    "                        # if the p-value is less than alpha, we reject the hypothesis\n",
    "\n",
    "results = st.ttest_ind(\n",
    "                        sample_3, \n",
    "                        sample_4,\n",
    "                        equal_var=False,\n",
    "                        alternative='greater')\n",
    "\n",
    "print('p-value: ', results.pvalue)\n",
    "\n",
    "if (results.pvalue < alpha):\n",
    "        print(\"We reject the null hypothesis\")\n",
    "else:\n",
    "        print(\"We retain the null hypothesis\")"
   ]
  },
  {
   "cell_type": "markdown",
   "metadata": {},
   "source": [
    "###### Step 4: Make a decision\n",
    "\n",
    "Based on the results of the test statistic we reach **significance**: the decision is to **reject the null hypothesis**. The equality of samples' means is associated with a low probability of occurrence (much less than 1%) when the null hypothesis is true.\n",
    "\n",
    "Now let's see what results we would get if we changed again the alternative hypothesis."
   ]
  },
  {
   "cell_type": "markdown",
   "metadata": {},
   "source": [
    "#### The average profit from users of Ultimate and Surf plans differs: unilateral hypothesis\n",
    "##### The \"Surf\" plan's average profit is less than the \"Ultimate\" plan's average profit\n",
    "###### Step 1: the null and alternative hypotheses\n",
    "**H0:** The means of two statistical populations are equal. In our case it means that the average profit from users of \"Surf\" and \"Ultimate\" plans is the same.\n",
    "\n",
    "**H1:** One of the means of two statistical populations is less than the other. In our case it means that the average profit from users of the \"Surf\" plan is less than that of the \"Ultimate\" plan."
   ]
  },
  {
   "cell_type": "markdown",
   "metadata": {},
   "source": [
    "###### Step 2: Set the criteria for a decision\n",
    "\n",
    "We will keep the level of significance at 5% for this test as well.\n",
    "\n",
    "###### Step 3: Compute the test statistic\n",
    "\n",
    "In order to test our new hypothesis we will also apply the method `scipy.stats.ttest_ind()`. \n",
    "The first 3 parameters stay the same and we will add one more for unilateral hypotheses:\n",
    "- `alternative` is an optional parameter that defines the alternative hypothesis. The following options are available (default is ‘two-sided’). In this section we will set it to 'less' for our purposes."
   ]
  },
  {
   "cell_type": "code",
   "execution_count": 89,
   "metadata": {},
   "outputs": [
    {
     "name": "stdout",
     "output_type": "stream",
     "text": [
      "p-value:  0.9997773537169975\n",
      "We retain the null hypothesis\n"
     ]
    }
   ],
   "source": [
    "alpha = .05 # critical statistical significance level\n",
    "                        # if the p-value is less than alpha, we reject the hypothesis\n",
    "\n",
    "results = st.ttest_ind(\n",
    "                        sample_3, \n",
    "                        sample_4,\n",
    "                        equal_var=False,\n",
    "                        alternative='less')\n",
    "\n",
    "print('p-value: ', results.pvalue)\n",
    "\n",
    "if (results.pvalue < alpha):\n",
    "        print(\"We reject the null hypothesis\")\n",
    "else:\n",
    "        print(\"We retain the null hypothesis\")"
   ]
  },
  {
   "cell_type": "markdown",
   "metadata": {},
   "source": [
    "###### Step 4: Make a decision\n",
    "\n",
    "Based on the results of the test statistic we **failed to reach significance**: the decision is to **retain the null hypothesis**. The equality of samples' means against such an alternative hypothesis is associated with a 100% probability of occurrence when the null hypothesis is true.\n",
    "\n",
    "This decision is probably an example of a Type II error as well."
   ]
  },
  {
   "cell_type": "markdown",
   "metadata": {},
   "source": [
    "# Conclusion\n",
    "\n",
    "In this report we have analyzed telecom clients' behavior in order to determine which of the two prepaid plans is more profitable and to test two statistical hypotheses.\n",
    "\n",
    "First of all, we have familiarized ourselves with the data by performing the descriptive statistics. Based on that analysis, in the preprocessing step we have changed data type of all the date variables to datetime format.\n",
    "\n",
    "Then we have rounded all the calls to minutes as per the company's policy. \n",
    "\n",
    "Next, we filled some missing values in the `churn_date` column, assuming these clients are still using the service, that is why there is no exit date for them.\n",
    "\n",
    "We have then checked for duplicates and any artifacts in user dates (we made sure the `churn_date` was always later than the `reg_date` and also that all user activity was placed between these two dates). No issues were found in these sections.\n",
    "\n",
    "Next step was to perform a few calculations. For each user, we found:\n",
    "\n",
    "- Total minutes used per month;\n",
    "- The number of text messages sent per month;\n",
    "- The volume of data per month;\n",
    "- The monthly profit from each user (we subtracted the free package limit from the total number of calls, text messages, and data; multiplied the result by the numbers included in the plan and added the monthly plan's charge)\n",
    "\n",
    "In the following section we have performed an exploratory data analysis in order to analyze customer's behavior for each plan and then compare both plans.\n",
    "\n",
    "We found that the \"Surf\" plan is mostly profitable throughout the year with a tendency of being more and more profit-making towards the end of the year. In contract, the \"Ultimate\" plan is mostly not profitable during the year, with the opposite tendency of being even more costly by the end of the year. \n",
    "\n",
    "Distributions for calls and web traffic are close to normal with the mean/median value for calls of 430-440 minutes per month and for web traffic - of 17-18 gb per month for both plans. The distributions for messages are positively skewed with a quite large standard deviation. It means that some people sent large amount of messages compared to the mean number of messages.\n",
    "\n",
    "As for the plans' conditions, the \"Surf\" plan brings some profit because users often exceed the limits. In contract, the \"Ultimate\" plan's limits should be reconsidered as users quite rarely (in 0% for calls and messages and 2% for web traffic cases) reach the limits and usually are far away from them.\n",
    "\n",
    "Next step was statistical hypotheses testing. We tested two hypotheses:\n",
    "1. The average profit from users of Ultimate and Surf plans differs;\n",
    "2. The average profit from users in NY-NJ area is different from that of the users from other regions.\n",
    "\n",
    "For both cases we have tested a bilateral and 2 unilateral hypotheses:\n",
    "- bilateral: in both cases we have rejected the null - each pair of populations does not bring the same average profit to the company;\n",
    "- unilateral:\n",
    "    - 'greater': in both cases we have rejected the nulls in favor of the alternative hypotheses:\n",
    "        - The \"Surf\" plan brings more profit than \"Ultimate\", on average;\n",
    "        - Users from NY-NJ area bring more profit than users from other regions, on average.\n",
    "    - 'less': in both cases we have retained the nulls over the alternative hypotheses:\n",
    "        - The \"Surf\" plan does not bring less profit than \"Ultimate\", on average;\n",
    "        - Users from NY-NJ area does not bring less profit than users from other regions, on average."
   ]
  }
 ],
 "metadata": {
  "kernelspec": {
   "display_name": "Python 3",
   "language": "python",
   "name": "python3"
  },
  "language_info": {
   "codemirror_mode": {
    "name": "ipython",
    "version": 3
   },
   "file_extension": ".py",
   "mimetype": "text/x-python",
   "name": "python",
   "nbconvert_exporter": "python",
   "pygments_lexer": "ipython3",
   "version": "3.7.7"
  },
  "toc": {
   "base_numbering": 1,
   "nav_menu": {},
   "number_sections": true,
   "sideBar": true,
   "skip_h1_title": true,
   "title_cell": "Table of Contents",
   "title_sidebar": "Contents",
   "toc_cell": true,
   "toc_position": {},
   "toc_section_display": true,
   "toc_window_display": false
  }
 },
 "nbformat": 4,
 "nbformat_minor": 4
}
